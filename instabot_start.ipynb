{
 "cells": [
  {
   "cell_type": "markdown",
   "metadata": {},
   "source": [
    "# Usage Instructions\n",
    "* Just run the complete code once. Do not run each Cell separatly.\n",
    "* Let the driver window run in **maximised mode**. Do not run it in windowed mode(it will maximise by itself)\n",
    "* Just run the code, sit back and relax\n",
    "* Do not make any changes in the code except the SAMPLE_USERNAME and SAMPLE_PASSWORD. You can easily change them by refering the code below.\n",
    "* **This code is written and tested with 4G network(AIRTEL)**. If you are using a 3G connection, you might want to change the time gap between several cells(at the end of some cells there is a line of code whose parameters you might want to alter.\n",
    "* **Recommended network is Airtel 4G or Jio 4G**.\n",
    "* Sometimes you will fell like website is frozen. No! Its not. The cod is still running doing its work. You will notice this specially when the list of followers is being scrolled down. it will take sometime to read through all the follower's usernames."
   ]
  },
  {
   "cell_type": "markdown",
   "metadata": {},
   "source": [
    "# Importing Important Libraries"
   ]
  },
  {
   "cell_type": "code",
   "execution_count": 20,
   "metadata": {},
   "outputs": [],
   "source": [
    "from selenium import webdriver\n",
    "from selenium.common.exceptions import NoSuchElementException\n",
    "from selenium.common.exceptions import StaleElementReferenceException\n",
    "from selenium.common.exceptions import TimeoutException\n",
    "from selenium.webdriver.support.ui import WebDriverWait\n",
    "from selenium.webdriver.support import expected_conditions as EC\n",
    "from selenium.webdriver.common.by import By\n",
    "from selenium.webdriver.support.select import Select\n",
    "from bs4 import BeautifulSoup\n",
    "import time"
   ]
  },
  {
   "cell_type": "markdown",
   "metadata": {},
   "source": [
    "# Starting Chrome WebDriver"
   ]
  },
  {
   "cell_type": "code",
   "execution_count": 2,
   "metadata": {},
   "outputs": [],
   "source": [
    "#Use chromedriver version based on your google chrome version\n",
    "#The current machine contains google chrome version 83\n",
    "#please chromedriver.exe based on the verion of your system\n",
    "driver=webdriver.Chrome(r\"chromedriver\")"
   ]
  },
  {
   "cell_type": "markdown",
   "metadata": {},
   "source": [
    "# Visiting Instagram\n",
    "Visiting Instagram and maximizing the window"
   ]
  },
  {
   "cell_type": "code",
   "execution_count": 3,
   "metadata": {},
   "outputs": [],
   "source": [
    "driver.get(\"https://www.instagram.com\")\n",
    "driver.maximize_window()"
   ]
  },
  {
   "cell_type": "markdown",
   "metadata": {},
   "source": [
    "# Input Credentials and Login:\n",
    "Make sure to input appropriate username and password."
   ]
  },
  {
   "cell_type": "code",
   "execution_count": 4,
   "metadata": {},
   "outputs": [],
   "source": [
    "username=\"udaysonubakka123@gmail.com\"\n",
    "password=\"udayyadusonu@2\"\n",
    "waiter=WebDriverWait(driver,10).until(EC.presence_of_element_located((By.NAME,\"username\")))\n",
    "username_field=driver.find_element_by_name('username')\n",
    "password_field=driver.find_element_by_name('password')\n",
    "username_field.send_keys(username)\n",
    "password_field.send_keys(password)\n",
    "Login_btn=driver.find_element_by_class_name('L3NKy')\n",
    "Login_btn.click()"
   ]
  },
  {
   "cell_type": "markdown",
   "metadata": {},
   "source": [
    "# Passing Save Login Info check"
   ]
  },
  {
   "cell_type": "code",
   "execution_count": 5,
   "metadata": {},
   "outputs": [],
   "source": [
    "waiter=WebDriverWait(driver,10).until(EC.presence_of_element_located((By.CLASS_NAME,\"coreSpriteKeyhole\")))\n",
    "Now_now_btn=driver.find_element_by_xpath(\"//button[contains(@class,'sqdOP')]\").click()"
   ]
  },
  {
   "cell_type": "markdown",
   "metadata": {},
   "source": [
    "# Supressing \"Turn On Notifications\" Window:"
   ]
  },
  {
   "cell_type": "code",
   "execution_count": 6,
   "metadata": {},
   "outputs": [],
   "source": [
    "waiter=WebDriverWait(driver,5).until(EC.visibility_of_any_elements_located((By.CLASS_NAME,\"HoLwm\")))\n",
    "driver.find_element_by_class_name('HoLwm').click()"
   ]
  },
  {
   "cell_type": "code",
   "execution_count": 7,
   "metadata": {},
   "outputs": [],
   "source": [
    "waiter=WebDriverWait(driver,10).until(EC.presence_of_element_located((By.CLASS_NAME,\"TqC_a\")))\n",
    "search_box=driver.find_element_by_class_name(\"TqC_a\").click()\n",
    "waiter=WebDriverWait(driver, 10).until(EC.presence_of_element_located((By.CLASS_NAME, \"XTCLo\")))"
   ]
  },
  {
   "cell_type": "markdown",
   "metadata": {},
   "source": [
    "# Input \"Food\" in the search box:"
   ]
  },
  {
   "cell_type": "code",
   "execution_count": 8,
   "metadata": {},
   "outputs": [],
   "source": [
    "search_box=driver.find_element_by_class_name(\"XTCLo\")\n",
    "search_box.send_keys(\"food\")\n"
   ]
  },
  {
   "cell_type": "markdown",
   "metadata": {},
   "source": [
    "**Printing all the names of Instagram Handles that are displayed in list after typing \"food\"**"
   ]
  },
  {
   "cell_type": "code",
   "execution_count": 9,
   "metadata": {},
   "outputs": [
    {
     "name": "stdout",
     "output_type": "stream",
     "text": [
      "streetfoodrecipe\n",
      "nitjfoodfestival\n",
      "foodscholarventure\n",
      "foodtechaspirant\n",
      "foodies_findings\n",
      "dilsefoodie\n",
      "food\n",
      "foodtech.__\n",
      "foodtechspace\n",
      "food.facade.fantasy\n",
      "food.sector\n",
      "foodies_at_hm\n",
      "food_tech_updates\n",
      "foodl_o_v_e_\n",
      "fsnh.solutions\n",
      "foodemyofficial\n",
      "foodtastingmission\n",
      "foodie_addicted_\n",
      "food.tech.plus\n",
      "food___diaries__\n",
      "foodpanda_talks\n",
      "madras__foodie\n",
      "foodiecity_\n",
      "searchingsamayal_foodie\n",
      "thehungrygujju\n",
      "yourfoodlab\n",
      "foodozers\n",
      "wirallyfood\n",
      "FOOD BAZAR\n",
      "foodtalkindia\n",
      "foodtech_simplified\n",
      "foodtechsociety\n",
      "food_belly11\n",
      "foodyypreneur\n",
      "foodandmorewithhansie\n",
      "buzzfeedfood\n",
      "the.chennai.foodie\n",
      "foodhunter_sabu\n",
      "food_lunatic\n",
      "foodtrails.india\n",
      "purabinaha\n",
      "foodie_incarnate\n",
      "socalledfoodies\n",
      "foodie_woman\n",
      "foodmaniacindia\n",
      "resh_taurants\n",
      "food_gambler\n",
      "foodchoiceofmumbai\n",
      "foodnetwork\n",
      "foodstoriesbyayesha\n",
      "delhifoods\n",
      "the_foodie_unity\n",
      "chocolateparadise\n"
     ]
    }
   ],
   "source": [
    "waiter=WebDriverWait(driver,10).until(EC.presence_of_element_located((By.XPATH,\"//a[contains(@class,'yCE8d')]/div/div[2]/div/span\")))\n",
    "for i in driver.find_elements_by_xpath('//a[contains(@class,\"yCE8d\")]/div/div[2]/div/span'):\n",
    "    print(i.get_attribute('innerHTML'))\n"
   ]
  },
  {
   "cell_type": "markdown",
   "metadata": {},
   "source": [
    "# Clearing Input:"
   ]
  },
  {
   "cell_type": "code",
   "execution_count": 10,
   "metadata": {},
   "outputs": [],
   "source": [
    "driver.find_element_by_class_name('coreSpriteSearchClear').click()"
   ]
  },
  {
   "cell_type": "markdown",
   "metadata": {},
   "source": [
    "# Enabling Search box:"
   ]
  },
  {
   "cell_type": "code",
   "execution_count": 11,
   "metadata": {},
   "outputs": [],
   "source": [
    "waiter=WebDriverWait(driver, 10).until(EC.presence_of_element_located((By.CLASS_NAME, \"TqC_a\")))\n",
    "driver.find_element_by_class_name('TqC_a').click()"
   ]
  },
  {
   "cell_type": "markdown",
   "metadata": {},
   "source": [
    "# Searching and Opening profile of \"So Delhi\":"
   ]
  },
  {
   "cell_type": "code",
   "execution_count": 12,
   "metadata": {},
   "outputs": [],
   "source": [
    "waiter=WebDriverWait(driver, 10).until(EC.presence_of_element_located((By.CLASS_NAME, \"XTCLo\")))\n",
    "search_box=driver.find_element_by_class_name('XTCLo')\n",
    "search_box.send_keys('So Delhi')\n",
    "waiter=WebDriverWait(driver, 10).until(EC.presence_of_element_located((By.CLASS_NAME, \"yCE8d\")))"
   ]
  },
  {
   "cell_type": "code",
   "execution_count": 13,
   "metadata": {},
   "outputs": [],
   "source": [
    "driver.find_element_by_class_name('yCE8d').click()\n",
    "waiter=WebDriverWait(driver, 15).until(EC.presence_of_element_located((By.CLASS_NAME, \"_6VtSN\")))"
   ]
  },
  {
   "cell_type": "markdown",
   "metadata": {},
   "source": [
    "# Following So Delhi:"
   ]
  },
  {
   "cell_type": "code",
   "execution_count": 14,
   "metadata": {},
   "outputs": [
    {
     "name": "stdout",
     "output_type": "stream",
     "text": [
      "Started Following\n"
     ]
    }
   ],
   "source": [
    "time.sleep(2.5)\n",
    "if driver.find_element_by_class_name('_6VtSN').get_attribute('innerHTML')=='Follow':\n",
    "    driver.find_element_by_xpath('//button[contains(@class, \"_6VtSN\")]').click()\n",
    "    print(\"Started Following\")\n",
    "else:\n",
    "    print('You are already following the page!')\n",
    "waiter=WebDriverWait(driver, 10).until(EC.presence_of_element_located((By.CLASS_NAME, \"_6VtSN\")))\n",
    "time.sleep(3)"
   ]
  },
  {
   "cell_type": "markdown",
   "metadata": {},
   "source": [
    "# Unfollowing So Delhi :"
   ]
  },
  {
   "cell_type": "code",
   "execution_count": 15,
   "metadata": {},
   "outputs": [
    {
     "name": "stdout",
     "output_type": "stream",
     "text": [
      "Unfollwed page\n"
     ]
    }
   ],
   "source": [
    "if driver.find_element_by_class_name('_6VtSN').get_attribute('innerHTML')!='Follow':\n",
    "    driver.find_element_by_class_name('_6VtSN').click()\n",
    "    waiter=WebDriverWait(driver, 10).until(EC.presence_of_element_located((By.XPATH, '//button[contains(@class, \"-Cab_\")]')))\n",
    "    driver.find_element_by_xpath('//button[contains(@class, \"-Cab_\")]').click()\n",
    "    print(\"Unfollwed page\")\n",
    "else:\n",
    "    print('You have already unfollowed the page')\n"
   ]
  },
  {
   "cell_type": "markdown",
   "metadata": {},
   "source": [
    "# Enabling the search box to visit \"dilsefoodie\":"
   ]
  },
  {
   "cell_type": "code",
   "execution_count": 16,
   "metadata": {},
   "outputs": [],
   "source": [
    "driver.find_element_by_class_name('TqC_a').click()\n",
    "waiter=WebDriverWait(driver, 10).until(EC.presence_of_element_located((By.CLASS_NAME, \"XTCLo\")))"
   ]
  },
  {
   "cell_type": "markdown",
   "metadata": {},
   "source": [
    "# Opening Profile of \"dilsefoodie\":"
   ]
  },
  {
   "cell_type": "code",
   "execution_count": 17,
   "metadata": {},
   "outputs": [],
   "source": [
    "search_box=driver.find_element_by_class_name('XTCLo')\n",
    "search_box.send_keys('dilsefoodie')\n",
    "waiter=WebDriverWait(driver, 10).until(EC.presence_of_element_located((By.CLASS_NAME, \"yCE8d\")))\n",
    "driver.find_element_by_class_name('yCE8d').click()\n",
    "time.sleep(3)"
   ]
  },
  {
   "cell_type": "markdown",
   "metadata": {},
   "source": [
    "# Scrolling down manually to load atleast 30 posts"
   ]
  },
  {
   "cell_type": "code",
   "execution_count": 18,
   "metadata": {},
   "outputs": [],
   "source": [
    "driver.execute_script('window.scrollBy(0,3000);')\n",
    "time.sleep(2.5)\n",
    "driver.execute_script('window.scrollBy(0,3000);')\n",
    "time.sleep(2.5)\n",
    "# waiter=WebDriverWait(driver,10).until(EC.presence_of_element_located((By.XPATH,'//div[contains(@class, \"_9AhH0\")]/div/a/div[1]')))"
   ]
  },
  {
   "cell_type": "markdown",
   "metadata": {},
   "source": [
    "# Liking 30 posts of dilsefoodie:"
   ]
  },
  {
   "cell_type": "code",
   "execution_count": 19,
   "metadata": {},
   "outputs": [
    {
     "ename": "NameError",
     "evalue": "name 'BeautifulSoup' is not defined",
     "output_type": "error",
     "traceback": [
      "\u001b[1;31m---------------------------------------------------------------------------\u001b[0m",
      "\u001b[1;31mNameError\u001b[0m                                 Traceback (most recent call last)",
      "\u001b[1;32m<ipython-input-19-61b5709f32aa>\u001b[0m in \u001b[0;36m<module>\u001b[1;34m\u001b[0m\n\u001b[0;32m      7\u001b[0m         \u001b[0mwatier\u001b[0m\u001b[1;33m=\u001b[0m\u001b[0mWebDriverWait\u001b[0m\u001b[1;33m(\u001b[0m\u001b[0mdriver\u001b[0m\u001b[1;33m,\u001b[0m\u001b[1;36m10\u001b[0m\u001b[1;33m)\u001b[0m\u001b[1;33m.\u001b[0m\u001b[0muntil\u001b[0m\u001b[1;33m(\u001b[0m\u001b[0mEC\u001b[0m\u001b[1;33m.\u001b[0m\u001b[0mpresence_of_element_located\u001b[0m\u001b[1;33m(\u001b[0m\u001b[1;33m(\u001b[0m\u001b[0mBy\u001b[0m\u001b[1;33m.\u001b[0m\u001b[0mCLASS_NAME\u001b[0m\u001b[1;33m,\u001b[0m\u001b[1;34m'fr66n'\u001b[0m\u001b[1;33m)\u001b[0m\u001b[1;33m)\u001b[0m\u001b[1;33m)\u001b[0m\u001b[1;33m\u001b[0m\u001b[1;33m\u001b[0m\u001b[0m\n\u001b[0;32m      8\u001b[0m         \u001b[0mlike_btn\u001b[0m\u001b[1;33m=\u001b[0m\u001b[0mdriver\u001b[0m\u001b[1;33m.\u001b[0m\u001b[0mfind_element_by_xpath\u001b[0m\u001b[1;33m(\u001b[0m\u001b[1;34m'//span[contains(@class,\"fr66n\")]/button'\u001b[0m\u001b[1;33m)\u001b[0m\u001b[1;33m\u001b[0m\u001b[1;33m\u001b[0m\u001b[0m\n\u001b[1;32m----> 9\u001b[1;33m         \u001b[1;32mif\u001b[0m \u001b[0mBeautifulSoup\u001b[0m\u001b[1;33m(\u001b[0m\u001b[0mdriver\u001b[0m\u001b[1;33m.\u001b[0m\u001b[0mfind_element_by_xpath\u001b[0m\u001b[1;33m(\u001b[0m\u001b[1;34m\"//span[contains(@class,'fr66n')]/button\"\u001b[0m\u001b[1;33m)\u001b[0m\u001b[1;33m.\u001b[0m\u001b[0mget_attribute\u001b[0m\u001b[1;33m(\u001b[0m\u001b[1;34m\"innerHTML\"\u001b[0m\u001b[1;33m)\u001b[0m\u001b[1;33m,\u001b[0m\u001b[1;34m\"html.parser\"\u001b[0m\u001b[1;33m)\u001b[0m\u001b[1;33m.\u001b[0m\u001b[0msvg\u001b[0m\u001b[1;33m[\u001b[0m\u001b[1;34m'aria-label'\u001b[0m\u001b[1;33m]\u001b[0m\u001b[1;33m!=\u001b[0m\u001b[1;34m'Like'\u001b[0m\u001b[1;33m:\u001b[0m\u001b[1;33m\u001b[0m\u001b[1;33m\u001b[0m\u001b[0m\n\u001b[0m\u001b[0;32m     10\u001b[0m             \u001b[0mprint\u001b[0m\u001b[1;33m(\u001b[0m\u001b[1;34m\"Post:\"\u001b[0m\u001b[1;33m,\u001b[0m\u001b[0mcount\u001b[0m\u001b[1;33m,\u001b[0m\u001b[1;34m\"Already Liked\"\u001b[0m\u001b[1;33m)\u001b[0m\u001b[1;33m\u001b[0m\u001b[1;33m\u001b[0m\u001b[0m\n\u001b[0;32m     11\u001b[0m         \u001b[1;32melse\u001b[0m\u001b[1;33m:\u001b[0m\u001b[1;33m\u001b[0m\u001b[1;33m\u001b[0m\u001b[0m\n",
      "\u001b[1;31mNameError\u001b[0m: name 'BeautifulSoup' is not defined"
     ]
    }
   ],
   "source": [
    "posts=driver.find_elements_by_class_name(\"_9AhH0\")\n",
    "count=0\n",
    "for post in posts:\n",
    "    try:\n",
    "        post.click()\n",
    "        count+=1\n",
    "        watier=WebDriverWait(driver,10).until(EC.presence_of_element_located((By.CLASS_NAME,'fr66n')))\n",
    "        like_btn=driver.find_element_by_xpath('//span[contains(@class,\"fr66n\")]/button')\n",
    "        if BeautifulSoup(driver.find_element_by_xpath(\"//span[contains(@class,'fr66n')]/button\").get_attribute(\"innerHTML\"),\"html.parser\").svg['aria-label']!='Like':\n",
    "            print(\"Post:\",count,\"Already Liked\")\n",
    "        else:\n",
    "            print(\"Post:\",count,\"Liked\")\n",
    "            like_btn.click()\n",
    "\n",
    "        driver.find_elements_by_xpath(\"//button[contains(@class,'wpO6b')]\")[-1].click()\n",
    "    except StaleElementReferenceException:\n",
    "            break\n",
    "    \n"
   ]
  },
  {
   "cell_type": "markdown",
   "metadata": {},
   "source": [
    "# Unliking 30 posts of dilsefoodie:"
   ]
  },
  {
   "cell_type": "code",
   "execution_count": null,
   "metadata": {},
   "outputs": [],
   "source": [
    "count=0\n",
    "for post in posts:\n",
    "    try:\n",
    "        post.click()\n",
    "        count+=1\n",
    "        watier=WebDriverWait(driver,10).until(EC.presence_of_element_located((By.CLASS_NAME,'fr66n')))\n",
    "        like_btn=driver.find_element_by_xpath('//span[contains(@class,\"fr66n\")]/button')\n",
    "        if BeautifulSoup(driver.find_element_by_xpath(\"//span[contains(@class,'fr66n')]/button\").get_attribute(\"innerHTML\"),\"html.parser\").svg['aria-label']=='Like':\n",
    "            print(\"Post:\",count,\"Already Unliked\")\n",
    "        else:\n",
    "            print(\"Post:\",count,\"Unliked\")\n",
    "            like_btn.click()\n",
    "\n",
    "        driver.find_elements_by_xpath(\"//button[contains(@class,'wpO6b')]\")[-1].click()\n",
    "    except StaleElementReferenceException:\n",
    "        break\n"
   ]
  },
  {
   "cell_type": "code",
   "execution_count": null,
   "metadata": {},
   "outputs": [],
   "source": [
    "from bs4 import BeautifulSoup\n",
    "driver.find_element_by_xpath('//span[contains(@class,\"fr66n\")]/button')\n"
   ]
  }
 ],
 "metadata": {
  "kernelspec": {
   "display_name": "Python 3",
   "language": "python",
   "name": "python3"
  },
  "language_info": {
   "codemirror_mode": {
    "name": "ipython",
    "version": 3
   },
   "file_extension": ".py",
   "mimetype": "text/x-python",
   "name": "python",
   "nbconvert_exporter": "python",
   "pygments_lexer": "ipython3",
   "version": "3.7.4"
  }
 },
 "nbformat": 4,
 "nbformat_minor": 2
}
