{
 "cells": [
  {
   "cell_type": "markdown",
   "metadata": {},
   "source": [
    "# Usage Instructions\n",
    "* Just run the complete code once. Do not run each Cell separatly.\n",
    "* Let the driver window run in **maximised mode**. Do not run it in windowed mode(it will maximise by itself)\n",
    "* Just run the code, sit back and relax\n",
    "* Do not make any changes in the code except the SAMPLE_USERNAME and SAMPLE_PASSWORD. You can easily change them by refering the code below.\n",
    "* **This code is written and tested with 4G network(AIRTEL)**. If you are using a 3G connection, you might want to change the time gap between several cells(at the end of some cells there is a line of code whose parameters you might want to alter.\n",
    "* **Recommended network is Airtel 4G or Jio 4G**.\n",
    "* Sometimes you will fell like website is frozen. No! Its not. The cod is still running doing its work. You will notice this specially when the list of followers is being scrolled down. it will take sometime to read through all the follower's usernames."
   ]
  },
  {
   "cell_type": "markdown",
   "metadata": {},
   "source": [
    "# Importing Important Libraries"
   ]
  },
  {
   "cell_type": "code",
   "execution_count": 1,
   "metadata": {},
   "outputs": [],
   "source": [
    "from selenium import webdriver\n",
    "from selenium.common.exceptions import NoSuchElementException\n",
    "from selenium.common.exceptions import StaleElementReferenceException\n",
    "from selenium.common.exceptions import TimeoutException\n",
    "from selenium.webdriver.support.ui import WebDriverWait\n",
    "from selenium.webdriver.support import expected_conditions as EC\n",
    "from selenium.webdriver.common.by import By\n",
    "from selenium.webdriver.support.select import Select\n",
    "from bs4 import BeautifulSoup\n",
    "import time"
   ]
  },
  {
   "cell_type": "markdown",
   "metadata": {},
   "source": [
    "# Starting Chrome WebDriver"
   ]
  },
  {
   "cell_type": "code",
   "execution_count": 2,
   "metadata": {},
   "outputs": [],
   "source": [
    "#Use chromedriver version based on your google chrome version\n",
    "#The current machine contains google chrome version 83\n",
    "#please chromedriver.exe based on the verion of your system\n",
    "driver=webdriver.Chrome(r\"chromedriver\")"
   ]
  },
  {
   "cell_type": "markdown",
   "metadata": {},
   "source": [
    "# Visiting Instagram\n",
    "Visiting Instagram and maximizing the window"
   ]
  },
  {
   "cell_type": "code",
   "execution_count": 3,
   "metadata": {},
   "outputs": [],
   "source": [
    "driver.get(\"https://www.instagram.com\")\n",
    "driver.maximize_window()"
   ]
  },
  {
   "cell_type": "markdown",
   "metadata": {},
   "source": [
    "# Input Credentials and Login:\n",
    "Make sure to input appropriate username and password."
   ]
  },
  {
   "cell_type": "code",
   "execution_count": 4,
   "metadata": {},
   "outputs": [],
   "source": [
    "username=\"udaysonubakka123@gmail.com\"\n",
    "password=\"udayyadusonu@2\"\n",
    "waiter=WebDriverWait(driver,10).until(EC.presence_of_element_located((By.NAME,\"username\")))\n",
    "username_field=driver.find_element_by_name('username')\n",
    "password_field=driver.find_element_by_name('password')\n",
    "username_field.send_keys(username)\n",
    "password_field.send_keys(password)\n",
    "Login_btn=driver.find_element_by_class_name('L3NKy')\n",
    "Login_btn.click()"
   ]
  },
  {
   "cell_type": "markdown",
   "metadata": {},
   "source": [
    "# Passing Save Login Info check"
   ]
  },
  {
   "cell_type": "code",
   "execution_count": 5,
   "metadata": {},
   "outputs": [],
   "source": [
    "waiter=WebDriverWait(driver,10).until(EC.presence_of_element_located((By.CLASS_NAME,\"coreSpriteKeyhole\")))\n",
    "Now_now_btn=driver.find_element_by_xpath(\"//button[contains(@class,'sqdOP')]\").click()"
   ]
  },
  {
   "cell_type": "markdown",
   "metadata": {},
   "source": [
    "# Supressing \"Turn On Notifications\" Window:"
   ]
  },
  {
   "cell_type": "code",
   "execution_count": 6,
   "metadata": {},
   "outputs": [],
   "source": [
    "waiter=WebDriverWait(driver,5).until(EC.visibility_of_any_elements_located((By.CLASS_NAME,\"HoLwm\")))\n",
    "driver.find_element_by_class_name('HoLwm').click()"
   ]
  },
  {
   "cell_type": "code",
   "execution_count": 7,
   "metadata": {},
   "outputs": [],
   "source": [
    "waiter=WebDriverWait(driver,10).until(EC.presence_of_element_located((By.CLASS_NAME,\"TqC_a\")))\n",
    "search_box=driver.find_element_by_class_name(\"TqC_a\").click()\n",
    "waiter=WebDriverWait(driver, 10).until(EC.presence_of_element_located((By.CLASS_NAME, \"XTCLo\")))"
   ]
  },
  {
   "cell_type": "markdown",
   "metadata": {},
   "source": [
    "# Input \"Food\" in the search box:"
   ]
  },
  {
   "cell_type": "code",
   "execution_count": 8,
   "metadata": {},
   "outputs": [],
   "source": [
    "search_box=driver.find_element_by_class_name(\"XTCLo\")\n",
    "search_box.send_keys(\"food\")\n"
   ]
  },
  {
   "cell_type": "markdown",
   "metadata": {},
   "source": [
    "**Printing all the names of Instagram Handles that are displayed in list after typing \"food\"**"
   ]
  },
  {
   "cell_type": "code",
   "execution_count": 9,
   "metadata": {},
   "outputs": [
    {
     "name": "stdout",
     "output_type": "stream",
     "text": [
      "dilsefoodie\n",
      "streetfoodrecipe\n",
      "nitjfoodfestival\n",
      "foodies_findings\n",
      "foodtechaspirant\n",
      "foodscholarventure\n",
      "food\n",
      "foodtechspace\n",
      "foodtech.__\n",
      "food.facade.fantasy\n",
      "food.sector\n",
      "foodies_at_hm\n",
      "fsnh.solutions\n",
      "foodemyofficial\n",
      "foodl_o_v_e_\n",
      "foodtastingmission\n",
      "foodie_addicted_\n",
      "food___diaries__\n",
      "foodpanda_talks\n",
      "yourfoodlab\n",
      "madras__foodie\n",
      "food.tech.plus\n",
      "foodiecity_\n",
      "foodiemachaa\n",
      "searchingsamayal_foodie\n",
      "thehungrygujju\n",
      "foodozers\n",
      "foodtalkindia\n",
      "foodiee__gabbar\n",
      "FOOD BAZAR\n",
      "foodandmorewithhansie\n",
      "foodyypreneur\n",
      "foodtechsociety\n",
      "foodiesince96\n",
      "food_belly11\n",
      "the_foodie_unity\n",
      "foodtrails.india\n",
      "buzzfeedfood\n",
      "wirallyfood\n",
      "food_lunatic\n",
      "foodie_woman\n",
      "the.chennai.foodie\n",
      "foodie_incarnate\n",
      "foodtech_simplified\n",
      "foodhunter_sabu\n",
      "socalledfoodies\n",
      "food_gambler\n",
      "resh_taurants\n",
      "foodlty\n",
      "food_rovers_bay\n",
      "foodofdelight\n",
      "foodchoiceofmumbai\n",
      "foodnetwork\n"
     ]
    }
   ],
   "source": [
    "waiter=WebDriverWait(driver,10).until(EC.presence_of_element_located((By.XPATH,\"//a[contains(@class,'yCE8d')]/div/div[2]/div/span\")))\n",
    "for i in driver.find_elements_by_xpath('//a[contains(@class,\"yCE8d\")]/div/div[2]/div/span'):\n",
    "    print(i.get_attribute('innerHTML'))\n"
   ]
  },
  {
   "cell_type": "markdown",
   "metadata": {},
   "source": [
    "# Clearing Input:"
   ]
  },
  {
   "cell_type": "code",
   "execution_count": 10,
   "metadata": {},
   "outputs": [],
   "source": [
    "driver.find_element_by_class_name('coreSpriteSearchClear').click()"
   ]
  },
  {
   "cell_type": "markdown",
   "metadata": {},
   "source": [
    "# Enabling Search box:"
   ]
  },
  {
   "cell_type": "code",
   "execution_count": 11,
   "metadata": {},
   "outputs": [],
   "source": [
    "waiter=WebDriverWait(driver, 10).until(EC.presence_of_element_located((By.CLASS_NAME, \"TqC_a\")))\n",
    "driver.find_element_by_class_name('TqC_a').click()"
   ]
  },
  {
   "cell_type": "markdown",
   "metadata": {},
   "source": [
    "# Searching and Opening profile of \"So Delhi\":"
   ]
  },
  {
   "cell_type": "code",
   "execution_count": 12,
   "metadata": {},
   "outputs": [],
   "source": [
    "waiter=WebDriverWait(driver, 10).until(EC.presence_of_element_located((By.CLASS_NAME, \"XTCLo\")))\n",
    "search_box=driver.find_element_by_class_name('XTCLo')\n",
    "search_box.send_keys('So Delhi')\n",
    "waiter=WebDriverWait(driver, 10).until(EC.presence_of_element_located((By.CLASS_NAME, \"yCE8d\")))"
   ]
  },
  {
   "cell_type": "code",
   "execution_count": 13,
   "metadata": {},
   "outputs": [],
   "source": [
    "driver.find_element_by_class_name('yCE8d').click()\n",
    "waiter=WebDriverWait(driver, 15).until(EC.presence_of_element_located((By.CLASS_NAME, \"_6VtSN\")))"
   ]
  },
  {
   "cell_type": "markdown",
   "metadata": {},
   "source": [
    "# Following So Delhi:"
   ]
  },
  {
   "cell_type": "code",
   "execution_count": 14,
   "metadata": {},
   "outputs": [
    {
     "name": "stdout",
     "output_type": "stream",
     "text": [
      "Started Following\n"
     ]
    }
   ],
   "source": [
    "time.sleep(2.5)\n",
    "if driver.find_element_by_class_name('_6VtSN').get_attribute('innerHTML')=='Follow':\n",
    "    driver.find_element_by_xpath('//button[contains(@class, \"_6VtSN\")]').click()\n",
    "    print(\"Started Following\")\n",
    "else:\n",
    "    print('You are already following the page!')\n",
    "waiter=WebDriverWait(driver, 10).until(EC.presence_of_element_located((By.CLASS_NAME, \"_6VtSN\")))\n",
    "time.sleep(3)"
   ]
  },
  {
   "cell_type": "markdown",
   "metadata": {},
   "source": [
    "# Unfollowing So Delhi :"
   ]
  },
  {
   "cell_type": "code",
   "execution_count": 15,
   "metadata": {},
   "outputs": [
    {
     "name": "stdout",
     "output_type": "stream",
     "text": [
      "Unfollwed page\n"
     ]
    }
   ],
   "source": [
    "if driver.find_element_by_class_name('_6VtSN').get_attribute('innerHTML')!='Follow':\n",
    "    driver.find_element_by_class_name('_6VtSN').click()\n",
    "    waiter=WebDriverWait(driver, 10).until(EC.presence_of_element_located((By.XPATH, '//button[contains(@class, \"-Cab_\")]')))\n",
    "    driver.find_element_by_xpath('//button[contains(@class, \"-Cab_\")]').click()\n",
    "    print(\"Unfollwed page\")\n",
    "else:\n",
    "    print('You have already unfollowed the page')\n"
   ]
  },
  {
   "cell_type": "markdown",
   "metadata": {},
   "source": [
    "# Enabling the search box to visit \"dilsefoodie\":"
   ]
  },
  {
   "cell_type": "code",
   "execution_count": 16,
   "metadata": {},
   "outputs": [],
   "source": [
    "driver.find_element_by_class_name('TqC_a').click()\n",
    "waiter=WebDriverWait(driver, 10).until(EC.presence_of_element_located((By.CLASS_NAME, \"XTCLo\")))"
   ]
  },
  {
   "cell_type": "markdown",
   "metadata": {},
   "source": [
    "# Opening Profile of \"dilsefoodie\":"
   ]
  },
  {
   "cell_type": "code",
   "execution_count": 17,
   "metadata": {},
   "outputs": [],
   "source": [
    "search_box=driver.find_element_by_class_name('XTCLo')\n",
    "search_box.send_keys('dilsefoodie')\n",
    "waiter=WebDriverWait(driver, 10).until(EC.presence_of_element_located((By.CLASS_NAME, \"yCE8d\")))\n",
    "driver.find_element_by_class_name('yCE8d').click()\n",
    "time.sleep(3)"
   ]
  },
  {
   "cell_type": "markdown",
   "metadata": {},
   "source": [
    "# Scrolling down manually to load atleast 30 posts"
   ]
  },
  {
   "cell_type": "code",
   "execution_count": 18,
   "metadata": {},
   "outputs": [],
   "source": [
    "driver.execute_script('window.scrollBy(0,3000);')\n",
    "time.sleep(2.5)\n",
    "driver.execute_script('window.scrollBy(0,3000);')\n",
    "time.sleep(2.5)\n",
    "# waiter=WebDriverWait(driver,10).until(EC.presence_of_element_located((By.XPATH,'//div[contains(@class, \"_9AhH0\")]/div/a/div[1]')))"
   ]
  },
  {
   "cell_type": "markdown",
   "metadata": {},
   "source": [
    "# Liking 30 posts of dilsefoodie:"
   ]
  },
  {
   "cell_type": "code",
   "execution_count": 19,
   "metadata": {},
   "outputs": [
    {
     "name": "stdout",
     "output_type": "stream",
     "text": [
      "Post: 1 Liked\n",
      "Post: 2 Liked\n",
      "Post: 3 Liked\n",
      "Post: 4 Liked\n",
      "Post: 5 Liked\n",
      "Post: 6 Liked\n",
      "Post: 7 Liked\n",
      "Post: 8 Liked\n",
      "Post: 9 Liked\n",
      "Post: 10 Liked\n",
      "Post: 11 Liked\n",
      "Post: 12 Liked\n",
      "Post: 13 Liked\n",
      "Post: 14 Liked\n",
      "Post: 15 Liked\n",
      "Post: 16 Liked\n",
      "Post: 17 Liked\n",
      "Post: 18 Liked\n",
      "Post: 19 Liked\n",
      "Post: 20 Liked\n",
      "Post: 21 Liked\n",
      "Post: 22 Liked\n",
      "Post: 23 Liked\n",
      "Post: 24 Liked\n",
      "Post: 25 Liked\n",
      "Post: 26 Liked\n",
      "Post: 27 Liked\n",
      "Post: 28 Liked\n",
      "Post: 29 Liked\n",
      "Post: 30 Liked\n"
     ]
    }
   ],
   "source": [
    "posts=driver.find_elements_by_class_name(\"_9AhH0\")\n",
    "count=0\n",
    "for post in posts:\n",
    "    try:\n",
    "        post.click()\n",
    "        count+=1\n",
    "        watier=WebDriverWait(driver,10).until(EC.presence_of_element_located((By.CLASS_NAME,'fr66n')))\n",
    "        like_btn=driver.find_element_by_xpath('//span[contains(@class,\"fr66n\")]/button')\n",
    "        if BeautifulSoup(driver.find_element_by_xpath(\"//span[contains(@class,'fr66n')]/button\").get_attribute(\"innerHTML\"),\"html.parser\").svg['aria-label']!='Like':\n",
    "            print(\"Post:\",count,\"Already Liked\")\n",
    "        else:\n",
    "            print(\"Post:\",count,\"Liked\")\n",
    "            like_btn.click()\n",
    "\n",
    "        driver.find_elements_by_xpath(\"//button[contains(@class,'wpO6b')]\")[-1].click()\n",
    "    except StaleElementReferenceException:\n",
    "            break\n",
    "    \n"
   ]
  },
  {
   "cell_type": "markdown",
   "metadata": {},
   "source": [
    "# Unliking 30 posts of dilsefoodie:"
   ]
  },
  {
   "cell_type": "code",
   "execution_count": 20,
   "metadata": {},
   "outputs": [
    {
     "name": "stdout",
     "output_type": "stream",
     "text": [
      "Post: 1 Unliked\n",
      "Post: 2 Unliked\n",
      "Post: 3 Unliked\n",
      "Post: 4 Unliked\n",
      "Post: 5 Unliked\n",
      "Post: 6 Unliked\n",
      "Post: 7 Unliked\n",
      "Post: 8 Unliked\n",
      "Post: 9 Unliked\n",
      "Post: 10 Unliked\n",
      "Post: 11 Unliked\n",
      "Post: 12 Unliked\n",
      "Post: 13 Unliked\n",
      "Post: 14 Unliked\n",
      "Post: 15 Unliked\n",
      "Post: 16 Unliked\n",
      "Post: 17 Unliked\n",
      "Post: 18 Unliked\n",
      "Post: 19 Unliked\n",
      "Post: 20 Unliked\n",
      "Post: 21 Unliked\n",
      "Post: 22 Unliked\n",
      "Post: 23 Unliked\n",
      "Post: 24 Unliked\n",
      "Post: 25 Unliked\n",
      "Post: 26 Unliked\n",
      "Post: 27 Unliked\n",
      "Post: 28 Unliked\n",
      "Post: 29 Unliked\n",
      "Post: 30 Unliked\n"
     ]
    }
   ],
   "source": [
    "count=0\n",
    "for post in posts:\n",
    "    try:\n",
    "        post.click()\n",
    "        count+=1\n",
    "        watier=WebDriverWait(driver,10).until(EC.presence_of_element_located((By.CLASS_NAME,'fr66n')))\n",
    "        like_btn=driver.find_element_by_xpath('//span[contains(@class,\"fr66n\")]/button')\n",
    "        if BeautifulSoup(driver.find_element_by_xpath(\"//span[contains(@class,'fr66n')]/button\").get_attribute(\"innerHTML\"),\"html.parser\").svg['aria-label']=='Like':\n",
    "            print(\"Post:\",count,\"Already Unliked\")\n",
    "        else:\n",
    "            print(\"Post:\",count,\"Unliked\")\n",
    "            like_btn.click()\n",
    "\n",
    "        driver.find_elements_by_xpath(\"//button[contains(@class,'wpO6b')]\")[-1].click()\n",
    "    except StaleElementReferenceException:\n",
    "        break\n"
   ]
  },
  {
   "cell_type": "markdown",
   "metadata": {},
   "source": [
    " # Visiting So Delhi"
   ]
  },
  {
   "cell_type": "code",
   "execution_count": 21,
   "metadata": {},
   "outputs": [],
   "source": [
    "driver.find_element_by_class_name('TqC_a').click()\n",
    "waiter=WebDriverWait(driver, 10).until(EC.presence_of_element_located((By.CLASS_NAME, \"XTCLo\")))"
   ]
  },
  {
   "cell_type": "code",
   "execution_count": 22,
   "metadata": {},
   "outputs": [],
   "source": [
    "search_box=driver.find_element_by_class_name('XTCLo')\n",
    "search_box.send_keys('So Delhi')\n",
    "waiter=WebDriverWait(driver, 10).until(EC.presence_of_element_located((By.CLASS_NAME, \"yCE8d\")))"
   ]
  },
  {
   "cell_type": "code",
   "execution_count": 23,
   "metadata": {},
   "outputs": [],
   "source": [
    "driver.find_element_by_class_name('yCE8d').click()\n",
    "waiter=WebDriverWait(driver, 10).until(EC.presence_of_element_located((By.CLASS_NAME, \"_6VtSN\")))\n",
    "time.sleep(3)"
   ]
  },
  {
   "cell_type": "markdown",
   "metadata": {},
   "source": [
    "# Extracting the usernames of the first 500 followers of 'sodelhi':"
   ]
  },
  {
   "cell_type": "code",
   "execution_count": 31,
   "metadata": {},
   "outputs": [],
   "source": [
    "# try:\n",
    "#     driver.execute_script('window.scrollTo(0, 0)')\n",
    "#     driver.find_element_by_xpath('//a[@class=\"-nal3 \"]/span[@class=\"g47SY \"]').click()\n",
    "# except NoSuchElementException:\n",
    "driver.find_element_by_xpath('//a[@class=\" _81NM2\"]/span[contains(@class, \"g47SY\")]').click()\n",
    "waiter=WebDriverWait(driver, 10).until(EC.presence_of_element_located((By.XPATH, '//a[contains(@class, \"notranslate\")]')))"
   ]
  },
  {
   "cell_type": "code",
   "execution_count": 37,
   "metadata": {},
   "outputs": [
    {
     "data": {
      "text/plain": [
       "['roamingbeastt',\n",
       " 'vidikalakhwani',\n",
       " 'sgupta1293',\n",
       " 'its_roman_reign_s',\n",
       " 'iammb3',\n",
       " '_abhishe_k',\n",
       " 'deependar373',\n",
       " 'shakkr_india',\n",
       " 'traptigoyal',\n",
       " 'chanmeet.sethi',\n",
       " 'pal.anoushka',\n",
       " 'dabistaneurdu_urduschool',\n",
       " 'sunidhijain26',\n",
       " 'ayushgar',\n",
       " '_therealmishraji',\n",
       " 'abdeali_bhanpura53',\n",
       " 'womens_zone0',\n",
       " 'punyyaa_a',\n",
       " 'prachibansal3534',\n",
       " 'nilofer.e',\n",
       " 'vibe_with_jac',\n",
       " '_shreyash19',\n",
       " 'sonineha89',\n",
       " 'neelankbhattar',\n",
       " 'sgtravel_gram',\n",
       " '1995.kritika',\n",
       " 'piyushsingh5007',\n",
       " 'nishaant_',\n",
       " '_surbhi_singhal',\n",
       " '_pranjal.yadav_',\n",
       " 'nayna.garg',\n",
       " 'avani.paliwal',\n",
       " 'mansi_chawla_lorai',\n",
       " 'priya.priya28',\n",
       " 'acolortale',\n",
       " 'udaysng',\n",
       " 'fantasy_parade07',\n",
       " 'solacedwithtea',\n",
       " 'geetika_bhan',\n",
       " 'rishu1410',\n",
       " 'rahul_vishnoi',\n",
       " 'sameercherwoo',\n",
       " '1212jayesh',\n",
       " 'liaagnes_089',\n",
       " 'indraneelbhandari',\n",
       " 'divyam09srivastava',\n",
       " 'wesandpaper',\n",
       " 'rohitgupta25_',\n",
       " 'priyanka_sharma9813',\n",
       " 'the_peach_delirium',\n",
       " 'minian_city',\n",
       " '17aruj_g',\n",
       " 'b1lal__007',\n",
       " 'malphas_77',\n",
       " 'ankita_johry',\n",
       " 'juhirana12',\n",
       " 'nobles0ul',\n",
       " '12neha_',\n",
       " 'notyourbestfrnd',\n",
       " 'komalkhatri_14',\n",
       " 'sneha9deshmukh',\n",
       " 'somendu.scorpion',\n",
       " 'bhawana.tiwari',\n",
       " 'karthika_195',\n",
       " 'sacred_shiit',\n",
       " 'watts.on_das_pallav',\n",
       " 'shubham_jain1594',\n",
       " 'ankitanarsey',\n",
       " 'delhi.shooters',\n",
       " 'shivangitaneja6',\n",
       " 'laura7closet',\n",
       " 'bhukked_world',\n",
       " 'jatin_singla9',\n",
       " 'prithamukherjee5314',\n",
       " 'imsiddhimehta',\n",
       " 'frontier_bakery',\n",
       " 'tanishkababber32',\n",
       " 'nikkkhil_gupta',\n",
       " 'toniqaccessories',\n",
       " 'sharma.anusheel',\n",
       " 'jitesh_goel.13',\n",
       " 'chaos_in_her_veins',\n",
       " 'xra169',\n",
       " 'mrityunjoykumar',\n",
       " 'bikramjeetsinghh',\n",
       " 'yaminimathur66',\n",
       " 'gauravsharma92',\n",
       " 'kmaheshwari_',\n",
       " 'merirasoi_ad1',\n",
       " 'karan_vermani19',\n",
       " 'aaryan.amateur',\n",
       " 'ekta.sharma0168',\n",
       " 'yash_phor',\n",
       " 'alinaqisherazi',\n",
       " 'ankita_kabir03',\n",
       " 'aryan_jindal_',\n",
       " 'amitsinghpvt',\n",
       " 'divinedelhi',\n",
       " 'dipika2426',\n",
       " 'heenakshig16',\n",
       " 'gaurav_upadhyay___',\n",
       " 'moldireddy_vinay',\n",
       " 'meme24x7_2020',\n",
       " 'sumit.asr',\n",
       " 'lalit.k.singh',\n",
       " 'saurabhshukla9340',\n",
       " 'maanugrwl0',\n",
       " 'jazzkaur2516',\n",
       " 'niharikasinghal',\n",
       " 'anshul_aggarwal',\n",
       " 'khushbooyadav0',\n",
       " 'sangeetarawat472',\n",
       " 'sayan__paul',\n",
       " '_harshitabhatia',\n",
       " 'anmolrao.0105',\n",
       " 'ovaisakhtar8',\n",
       " 'amangoyal0302',\n",
       " 'aashnabansal7',\n",
       " 'agarwal.sahil',\n",
       " 'varunrnair_',\n",
       " 'manyagupta_09',\n",
       " 'anoopkumar1244',\n",
       " 'steffibhatt95',\n",
       " 'tanyakhatri100',\n",
       " 'shrsti',\n",
       " 'aditidubey_2611',\n",
       " 'bishtnatasha43',\n",
       " 'no_one1111._',\n",
       " 'kunalmnchnda',\n",
       " 'the_krishna_gupta',\n",
       " 'niharika_sahni',\n",
       " 'travel_living_wanderlust',\n",
       " 'i_am_rashisharma',\n",
       " 'smarty_pandeya001',\n",
       " '_mahi__1017_',\n",
       " 'vikash_singh_007',\n",
       " 'cooking_l0unge',\n",
       " 'wakeupmohit',\n",
       " 'sanchit1640',\n",
       " 'kunalkalita05',\n",
       " '_battsyyy',\n",
       " 'jainsurbhi18',\n",
       " '_pareek_gippy',\n",
       " '_antrasaxena',\n",
       " '_shruti._sharma',\n",
       " 'ankitpathak101',\n",
       " 'amzad_azad1626',\n",
       " 'grumble.eat.grumble',\n",
       " '_miss_shaheen',\n",
       " 'iamankiteshsingh',\n",
       " 'krish.__k',\n",
       " 'ankitajainnn',\n",
       " 'bhavnalove357',\n",
       " 'sourav_k777',\n",
       " 'sagar.anand.sharma',\n",
       " 'inimitablekunal',\n",
       " 'kirti._.gill',\n",
       " 'thefoodiestaaz',\n",
       " 'seth.saksham',\n",
       " 'rishika.bera',\n",
       " 'anant.01',\n",
       " 'rollin_since96',\n",
       " 'himangini_98',\n",
       " 'tathagatghosh',\n",
       " 'rohit_varma_',\n",
       " 'nehabathla18',\n",
       " 'foodie__nadiad',\n",
       " 'tdivyanshu99',\n",
       " 'annapitanga',\n",
       " 'raunakgupta_17',\n",
       " 'bhawna_9595',\n",
       " 'zehain_._khan',\n",
       " 'discoveringpondicherry',\n",
       " 'the_winked_eyes',\n",
       " 'lensoverated',\n",
       " 'chhavigoel6',\n",
       " 'pria_jhaa',\n",
       " 'dulal4728',\n",
       " 'saurabhcaptures',\n",
       " 'roohaniyat_allweate',\n",
       " 'shakti_shekhar',\n",
       " 'shakshi_31',\n",
       " 'cool_rohitgarg',\n",
       " 'saiyam221',\n",
       " 'shivanigulati97',\n",
       " 'aakankshab',\n",
       " 'vinit.kush',\n",
       " 'aribarib56',\n",
       " 'punitkhanna17',\n",
       " 'kritikarashi',\n",
       " 'samanyu_srivastava',\n",
       " 'kriti.kansal',\n",
       " 'jahnavii_28',\n",
       " 'theshowfactory',\n",
       " 'rajaryan_x',\n",
       " 'shivam.sharma997',\n",
       " 'shwetasharma24257',\n",
       " 'vasurajagarwal',\n",
       " 'sidhdhisingh',\n",
       " 'tilakmanan',\n",
       " 'garg_gaurav97',\n",
       " 'prabhat21_',\n",
       " 'gift_them_best',\n",
       " 'dhruvkaistha',\n",
       " 'mysterious_soul19',\n",
       " 'itskaustubhraj',\n",
       " 'king_ashteon',\n",
       " 'vipul2067',\n",
       " 'kanishq_basoya_dellhii0001',\n",
       " 'sabinkumar_69',\n",
       " 'zaiqa_delhi6',\n",
       " 'palakg13',\n",
       " 'lalupasna',\n",
       " 'ashish.o9',\n",
       " '0_uday_0',\n",
       " 'ravithaakur',\n",
       " 'sikh.community.official',\n",
       " 'lyfe_uncertainty',\n",
       " 'gaganbeniwal1812',\n",
       " 'srish.97',\n",
       " 'shr.oyo',\n",
       " 'dhwanibhatt27',\n",
       " '_prakharpathak',\n",
       " 'ashwaryag',\n",
       " 'abhishek_agg1',\n",
       " 'vastvik_anand_',\n",
       " 'sagar0430',\n",
       " 'shrxyyx',\n",
       " 'nayyar.mayank',\n",
       " 'aditi.goyal',\n",
       " 'iisha.singh',\n",
       " 'khalid__naseem',\n",
       " 'trijyasinghal',\n",
       " 'bhavanabansal_15',\n",
       " 'priyankaprajapat',\n",
       " 'rohana_gunnu',\n",
       " 'ayushishukla23',\n",
       " 'nswtravelogue',\n",
       " '_janviiiii',\n",
       " 'ithinkpinkfloyd',\n",
       " 'samay9591',\n",
       " 'na37039_neha',\n",
       " 'salikkhan52',\n",
       " 'gladium08',\n",
       " 'thalassooophile',\n",
       " 'jatinshad',\n",
       " 'smilobunny',\n",
       " 'indya.bungy',\n",
       " 'prakhar.01',\n",
       " 'miggy_muse',\n",
       " 'bby.aruna',\n",
       " 'rahul_a29',\n",
       " 'bharat_ofc',\n",
       " 'shubhra611',\n",
       " 'lizamakeoversandacademy',\n",
       " 'gauribansal02',\n",
       " 'prachi_make_over',\n",
       " 'goel_aman_66',\n",
       " 'thesankalpagrawal',\n",
       " 'anshuman_.18',\n",
       " 'srishti2695',\n",
       " 'ekta_bansal_',\n",
       " 'jatin___v',\n",
       " 'theperspicaciouscompanion',\n",
       " 'sanchitmittal18',\n",
       " 'padge_the_dog_',\n",
       " 'manojnandaa',\n",
       " 'manikagarg96',\n",
       " 'aditya.m5',\n",
       " '_the_crazy_prodigy_',\n",
       " '_ananyagoyal',\n",
       " '_sheena.bhatia_',\n",
       " 'piyush_tyagi16',\n",
       " 'the_sahilkhan',\n",
       " 'jha_kanupriya',\n",
       " 'kanishkanagpal',\n",
       " 'sakshijain_1',\n",
       " 'varsha_ag11',\n",
       " 'rimjhim9998',\n",
       " 'akanchha_gupta',\n",
       " 'ashichauhan4',\n",
       " 'imayur26',\n",
       " 'aarenashadowfightfallout',\n",
       " 'aruna_agarwal0911',\n",
       " 'kenzieloo14',\n",
       " 'vkt_pvt',\n",
       " 'anaghamalik',\n",
       " 'harshitkag2010',\n",
       " 'sans.kritifashionhouse',\n",
       " 'sonia_purswani',\n",
       " 'arey_govind',\n",
       " 'no.one.qoutes',\n",
       " 'harshita3323',\n",
       " 'm_u_s_k_a_n_23',\n",
       " 'growandglowtogether',\n",
       " 'iam_dhruvrastogi',\n",
       " 'tejsai25',\n",
       " 'ayaan_saifi_143',\n",
       " 'led_zeppelin1712',\n",
       " 'superscrumptious',\n",
       " 'manvi_chaudhary',\n",
       " 'sh.anaya846',\n",
       " 'stuti0512',\n",
       " 'rishu_bahuguna',\n",
       " 'jyotishmaant',\n",
       " 'deekshant.mittal',\n",
       " 'poppycostyles',\n",
       " 'kavya28o7',\n",
       " 'global.pitara',\n",
       " 'dashmeshbedi',\n",
       " 'ishu.joshi',\n",
       " 'muditgambhir',\n",
       " 'juhi_422',\n",
       " 'mohit_200008',\n",
       " 'shubm.shrma',\n",
       " 't_h_e_n_e_h_a',\n",
       " 'sk_2008',\n",
       " 'kanojia6967',\n",
       " 'clothingaccessorieseller',\n",
       " 'thespringsoul',\n",
       " 'estheticcxx',\n",
       " 'nitishmahesh09',\n",
       " 'goelv20',\n",
       " 'pri_kakkar',\n",
       " 'somil.tyagi',\n",
       " 'saniya_1417',\n",
       " 'niharika_0329',\n",
       " 'prachi0961',\n",
       " 'ambika_agg',\n",
       " 'nim.shh',\n",
       " 'muskaan1341',\n",
       " 'ysh2701',\n",
       " 'omhari9879872020',\n",
       " 'mycupofcreatiwitty',\n",
       " 'mayankvinocha',\n",
       " 'ishhhhhh_kaur',\n",
       " 'subhamgupta98',\n",
       " 'tejprakashbk',\n",
       " 'manvij1612',\n",
       " 'vasuu.singhal',\n",
       " 'vasu.gupta_',\n",
       " '_ruchika_goel',\n",
       " '__the_rishabh_jain',\n",
       " 'i.am.utkay',\n",
       " 'iamshumaan',\n",
       " 'muskaan._gupta',\n",
       " 'aakash.johnson',\n",
       " 'purvanshi_singh',\n",
       " 'sanjeev._rai',\n",
       " 'kashif_alam7',\n",
       " 'gaura_bansal',\n",
       " 'priya_kashyap_07',\n",
       " 'pratik.sahu',\n",
       " '_enigmatic_introvert',\n",
       " 'jaan_vi_verma',\n",
       " 'sachin.singh.2206',\n",
       " 'abhishek__bhosale',\n",
       " 'aakarsh.sharma_',\n",
       " 'vipulpahuja98',\n",
       " 'shivamahuja75',\n",
       " 'anamika.banerjee94',\n",
       " 'kmanish07',\n",
       " 'kaithwas.777arunamahajan',\n",
       " 'prakhar.chauhan.779',\n",
       " 'natkhat_pathak',\n",
       " '_pranav.mehta_',\n",
       " 'komalphogat',\n",
       " 'graffitiavenuesocial',\n",
       " 'rab_zaidi7',\n",
       " 'nitisha.agarwal',\n",
       " 'shubham_jain009',\n",
       " 'mansi_goel_21',\n",
       " 'adii_agg',\n",
       " 'mansoor.amiri.9461',\n",
       " 'bhavya.ahuja.7',\n",
       " 'manvi.kalkhanday',\n",
       " 'deepanshu.sharma.1610',\n",
       " 'oshin.singh_',\n",
       " 'atishay_jain_95',\n",
       " 'ramaraosaladi',\n",
       " 'chaturvedi.rishika',\n",
       " 'nishant.rana02',\n",
       " 'shubh1203',\n",
       " 'niharikaguglani',\n",
       " 'chineseofwest',\n",
       " 'sahil_kapoor24',\n",
       " 'goyal_muskan_98',\n",
       " 'gaurav_madaan',\n",
       " 'taaanmay',\n",
       " 'shubham10012',\n",
       " 'tanya95gupta',\n",
       " 'latikabist',\n",
       " 'fashion_doldrums_and_blues',\n",
       " 'gazalmandelia',\n",
       " 'sakshi23garg',\n",
       " 'diptansh',\n",
       " 'tanjeet2305',\n",
       " 'absshayan',\n",
       " '__tarungupta_',\n",
       " 'mr_zeeshan_155',\n",
       " 'harshgoyal_ig',\n",
       " 'tanyajn123',\n",
       " 'r.u.p.a.l.i._',\n",
       " 'aps3080_',\n",
       " 'abhiramy.__',\n",
       " 'dishita.sharma.96',\n",
       " '__tripathi__',\n",
       " 'amazonsell830',\n",
       " 'padminisinghswain',\n",
       " 'johndavid_jd',\n",
       " 'sarthak_15aug',\n",
       " 'pramudgupta',\n",
       " 'harshsharma911',\n",
       " 'er.riya_garg',\n",
       " 'nikhilist_',\n",
       " 'vaibhavsangal__',\n",
       " 'gkritika_1298',\n",
       " 'priya15587',\n",
       " 'goel.shubham17',\n",
       " 'preeti_garg_23',\n",
       " 'rudraksha.pandey',\n",
       " 'ayushgupta2667',\n",
       " 'nikhat._.malik',\n",
       " 'larihant_jainl',\n",
       " 'biyaniiii',\n",
       " 'dhanshree23',\n",
       " 'tennman11',\n",
       " 'mylifeastamanna',\n",
       " '_sassy_swan',\n",
       " 'ankush0404',\n",
       " 'sohail_raish',\n",
       " 'himanshu_1996',\n",
       " 'shruti_sharma_0987',\n",
       " 'vatsal_2042',\n",
       " 'venomous.cure',\n",
       " 'physics.in.veins',\n",
       " 'shivangigambhir',\n",
       " 'sanskriti.13',\n",
       " '_____dishasachdeva_____',\n",
       " 'salonii_poddar',\n",
       " 'mr_e_e_z_y',\n",
       " 'ipawansingh',\n",
       " 'pavanniiii',\n",
       " 'apoorv_jain___',\n",
       " 'kartik.tyagi_',\n",
       " 'surbhi_saini_harbinger',\n",
       " 'ayushi__gupta1605',\n",
       " 'prince_tripa',\n",
       " 'itsnotaditya',\n",
       " 'vishuvashishtha',\n",
       " 'riyasiingh',\n",
       " 'pallavisionary',\n",
       " 'lakshay_khanna1997',\n",
       " 'assshh.xx',\n",
       " 'divyambansal_',\n",
       " 'nandini.varshney.376',\n",
       " 'extracare4you',\n",
       " 'shagun_saxena22',\n",
       " 'fiftyshadesofspicess',\n",
       " 'ratula28',\n",
       " 'flp__business',\n",
       " 'payalsinghh_',\n",
       " 'lakshyamehta07',\n",
       " 'anubhav_agarwal_',\n",
       " 'samarahehehe___47',\n",
       " 'ananya_rgarg',\n",
       " 'wings_of_money_28',\n",
       " 'vyompadamnabhofficial',\n",
       " 'divisha_garg',\n",
       " '__the__archer__',\n",
       " 'asodhi31',\n",
       " 'tarush.goyal',\n",
       " 'saltandpepperguy',\n",
       " 'r_ajat',\n",
       " 'shreesushmita',\n",
       " 'layush_l',\n",
       " '__gunjita',\n",
       " 'whochiragdogra',\n",
       " 'tanmay1989',\n",
       " 'kumar_deepak27',\n",
       " 'chiragn94',\n",
       " 'keshav_2',\n",
       " 'shipragupta466',\n",
       " 'ridhima92duggal',\n",
       " 'pia_mangal',\n",
       " 'shivani_17_09',\n",
       " '_manyaeron_',\n",
       " 'imkohlibhavya',\n",
       " 'priyambhardwaj.27',\n",
       " 'bitchy_didi_07',\n",
       " 'anuj__1406',\n",
       " 'shivamsfc',\n",
       " '__rahull_98',\n",
       " 'sadhvigrover',\n",
       " 'x.__aryan__.x',\n",
       " 'karanchouhan__',\n",
       " 'shivangi_verma_15',\n",
       " 'raveeshamalhotra',\n",
       " 'kriti_0028',\n",
       " 'srishtisingh906']"
      ]
     },
     "execution_count": 37,
     "metadata": {},
     "output_type": "execute_result"
    }
   ],
   "source": [
    "while True:\n",
    "    try:\n",
    "        sodelhi=[]\n",
    "        count=0\n",
    "        while True:\n",
    "            elements=driver.find_elements_by_xpath('//a[contains(@class, \"notranslate\")]')\n",
    "            if len(elements)<500:\n",
    "                waiter=WebDriverWait(driver, 10).until(EC.presence_of_element_located((By.XPATH, '//ul[contains(@class, \"jSC57\")]')))\n",
    "                driver.execute_script('arguments[0].scrollIntoView(0, 100);', driver.find_element_by_xpath('//ul[contains(@class, \"jSC57\")]'))\n",
    "                time.sleep(0.8)\n",
    "            i=elements[count]\n",
    "            sodelhi.append(i.get_attribute('innerHTML'))\n",
    "            if len(sodelhi)>=500:\n",
    "                break\n",
    "            count+=1\n",
    "        break\n",
    "    except StaleElementReferenceException:\n",
    "        continue\n",
    "print(sodelhi)"
   ]
  },
  {
   "cell_type": "code",
   "execution_count": 42,
   "metadata": {},
   "outputs": [],
   "source": [
    "driver.find_element_by_class_name('WaOAr').click()\n",
    "waiter=WebDriverWait(driver, 10).until(EC.presence_of_element_located((By.CLASS_NAME, \"TqC_a\")))"
   ]
  },
  {
   "cell_type": "markdown",
   "metadata": {},
   "source": [
    "# Extracting the usernames of the first 500 followers of 'foodtalkindia':"
   ]
  },
  {
   "cell_type": "code",
   "execution_count": null,
   "metadata": {},
   "outputs": [],
   "source": [
    "driver.find_element_by_class_name('TqC_a').click()\n",
    "search_box=driver.find_element_by_class_name('XTCLo')\n",
    "search_box.send_keys('foodtalkindia')\n",
    "waiter=WebDriverWait(driver, 10).until(EC.presence_of_element_located((By.CLASS_NAME, \"yCE8d\")))"
   ]
  },
  {
   "cell_type": "code",
   "execution_count": null,
   "metadata": {},
   "outputs": [],
   "source": [
    "driver.find_element_by_class_name('yCE8d').click()\n",
    "waiter=WebDriverWait(driver, 10).until(EC.element_to_be_clickable((By.XPATH, '//a[@class=\"-nal3 \"]/span[@class=\"g47SY \"]')))\n",
    "time.sleep(2)"
   ]
  },
  {
   "cell_type": "code",
   "execution_count": null,
   "metadata": {},
   "outputs": [],
   "source": [
    "driver.find_element_by_xpath('//a[@class=\"-nal3 \"]/span[@class=\"g47SY \"]').click()\n",
    "waiter=WebDriverWait(driver, 10).until(EC.presence_of_element_located((By.XPATH, '//a[contains(@class, \"notranslate\")]')))"
   ]
  },
  {
   "cell_type": "code",
   "execution_count": null,
   "metadata": {},
   "outputs": [],
   "source": [
    "while True:\n",
    "    try:\n",
    "        foodtalkindia=[]\n",
    "        count=0\n",
    "        while True:\n",
    "            elements=driver.find_elements_by_xpath('//a[contains(@class, \"notranslate\")]')\n",
    "            if len(elements)<500:\n",
    "                waiter=WebDriverWait(driver, 10).until(EC.presence_of_element_located((By.XPATH, '//ul[contains(@class, \"jSC57\")]')))\n",
    "                driver.execute_script('arguments[0].scrollIntoView(0, 100);', driver.find_element_by_xpath('//ul[contains(@class, \"jSC57\")]'))\n",
    "                time.sleep(0.8)\n",
    "            i=elements[count]\n",
    "            foodtalkindia.append(i.get_attribute('innerHTML'))\n",
    "            if len(foodtalkindia)>=500:\n",
    "                break\n",
    "            count+=1\n",
    "        break\n",
    "    except StaleElementReferenceException:\n",
    "        continue\n",
    "waiter=WebDriverWait(driver, 10).until(EC.presence_of_element_located((By.CLASS_NAME, \"glyphsSpriteX__outline__24__grey_9\")))\n",
    "print(foodtalkindia)"
   ]
  }
 ],
 "metadata": {
  "kernelspec": {
   "display_name": "Python 3",
   "language": "python",
   "name": "python3"
  },
  "language_info": {
   "codemirror_mode": {
    "name": "ipython",
    "version": 3
   },
   "file_extension": ".py",
   "mimetype": "text/x-python",
   "name": "python",
   "nbconvert_exporter": "python",
   "pygments_lexer": "ipython3",
   "version": "3.7.4"
  }
 },
 "nbformat": 4,
 "nbformat_minor": 2
}
