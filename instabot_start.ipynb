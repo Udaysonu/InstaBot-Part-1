{
 "cells": [
  {
   "cell_type": "markdown",
   "metadata": {},
   "source": [
    "# Usage Instructions\n",
    "* Just run the complete code once. Do not run each Cell separatly.\n",
    "* Let the driver window run in **maximised mode**. Do not run it in windowed mode(it will maximise by itself)\n",
    "* Just run the code, sit back and relax\n",
    "* Do not make any changes in the code except the SAMPLE_USERNAME and SAMPLE_PASSWORD. You can easily change them by refering the code below.\n",
    "* **This code is written and tested with 4G network(AIRTEL)**. If you are using a 3G connection, you might want to change the time gap between several cells(at the end of some cells there is a line of code whose parameters you might want to alter.\n",
    "* **Recommended network is Airtel 4G or Jio 4G**.\n",
    "* Sometimes you will fell like website is frozen. No! Its not. The cod is still running doing its work. You will notice this specially when the list of followers is being scrolled down. it will take sometime to read through all the follower's usernames."
   ]
  },
  {
   "cell_type": "markdown",
   "metadata": {},
   "source": [
    "# Importing Important Libraries"
   ]
  },
  {
   "cell_type": "code",
   "execution_count": 4,
   "metadata": {},
   "outputs": [],
   "source": [
    "from selenium import webdriver\n",
    "from selenium.common.exceptions import NoSuchElementException\n",
    "from selenium.common.exceptions import StaleElementReferenceException\n",
    "from selenium.common.exceptions import TimeoutException\n",
    "from selenium.webdriver.support.ui import WebDriverWait\n",
    "from selenium.webdriver.support import expected_conditions as EC\n",
    "from selenium.webdriver.common.by import By\n",
    "from selenium.webdriver.support.select import Select"
   ]
  },
  {
   "cell_type": "markdown",
   "metadata": {},
   "source": [
    "# Starting Chrome WebDriver"
   ]
  },
  {
   "cell_type": "code",
   "execution_count": 2,
   "metadata": {},
   "outputs": [],
   "source": [
    "#Use chromedriver version based on your google chrome version\n",
    "#The current machine contains google chrome version 83\n",
    "#please chromedriver.exe based on the verion of your system\n",
    "driver=webdriver.Chrome(r\"chromedriver\")"
   ]
  },
  {
   "cell_type": "markdown",
   "metadata": {},
   "source": [
    "# Visiting Instagram\n",
    "Visiting Instagram and maximizing the window"
   ]
  },
  {
   "cell_type": "code",
   "execution_count": 13,
   "metadata": {},
   "outputs": [
    {
     "data": {
      "text/plain": [
       "<selenium.webdriver.remote.webelement.WebElement (session=\"8db83b3ec74b7248dff48f899dbfa129\", element=\"b0de039e-c31b-4a10-bace-62befebd0bad\")>"
      ]
     },
     "execution_count": 13,
     "metadata": {},
     "output_type": "execute_result"
    }
   ],
   "source": [
    "driver.get(\"https://www.instagram.com\")\n",
    "driver.maximize_window()"
   ]
  },
  {
   "cell_type": "markdown",
   "metadata": {},
   "source": [
    "# Input Credentials and Login:\n",
    "Make sure to input appropriate username and password."
   ]
  },
  {
   "cell_type": "code",
   "execution_count": 23,
   "metadata": {},
   "outputs": [],
   "source": [
    "username=\"udaysonubakka123@gmail.com\"\n",
    "password=\"udayyadusonu@2\"\n",
    "waiter=WebDriverWait(driver,10).until(EC.presence_of_element_located((By.NAME,\"username\")))\n",
    "username_field=driver.find_element_by_name('username')\n",
    "password_field=driver.find_element_by_name('password')\n",
    "username_field.send_keys(username)\n",
    "password_field.send_keys(password)\n",
    "Login_btn=driver.find_element_by_class_name('L3NKy')\n",
    "Login_btn.click()"
   ]
  },
  {
   "cell_type": "markdown",
   "metadata": {},
   "source": [
    "# Supressing \"Turn On Notifications\" Window:"
   ]
  },
  {
   "cell_type": "code",
   "execution_count": 24,
   "metadata": {},
   "outputs": [],
   "source": [
    "waiter=WebDriverWait(driver,10).until(EC.presence_of_element_located())\n",
    "driver.find_element_by_class_name('HoLwm').click()"
   ]
  },
  {
   "cell_type": "code",
   "execution_count": null,
   "metadata": {},
   "outputs": [],
   "source": []
  }
 ],
 "metadata": {
  "kernelspec": {
   "display_name": "Python 3",
   "language": "python",
   "name": "python3"
  },
  "language_info": {
   "codemirror_mode": {
    "name": "ipython",
    "version": 3
   },
   "file_extension": ".py",
   "mimetype": "text/x-python",
   "name": "python",
   "nbconvert_exporter": "python",
   "pygments_lexer": "ipython3",
   "version": "3.7.4"
  }
 },
 "nbformat": 4,
 "nbformat_minor": 2
}
