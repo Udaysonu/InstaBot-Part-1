{
 "cells": [
  {
   "cell_type": "markdown",
   "metadata": {},
   "source": [
    "# Usage Instructions\n",
    "* Just run the complete code once. Do not run each Cell separatly.\n",
    "* Let the driver window run in **maximised mode**. Do not run it in windowed mode(it will maximise by itself)\n",
    "* Just run the code, sit back and relax\n",
    "* Do not make any changes in the code except the SAMPLE_USERNAME and SAMPLE_PASSWORD. You can easily change them by refering the code below.\n",
    "* **This code is written and tested with 4G network(AIRTEL)**. If you are using a 3G connection, you might want to change the time gap between several cells(at the end of some cells there is a line of code whose parameters you might want to alter.\n",
    "* **Recommended network is Airtel 4G or Jio 4G**.\n",
    "* Sometimes you will fell like website is frozen. No! Its not. The cod is still running doing its work. You will notice this specially when the list of followers is being scrolled down. it will take sometime to read through all the follower's usernames."
   ]
  },
  {
   "cell_type": "markdown",
   "metadata": {},
   "source": [
    "# Importing Important Libraries"
   ]
  },
  {
   "cell_type": "code",
   "execution_count": 1,
   "metadata": {},
   "outputs": [],
   "source": [
    "from selenium import webdriver\n",
    "from selenium.common.exceptions import NoSuchElementException\n",
    "from selenium.common.exceptions import StaleElementReferenceException\n",
    "from selenium.common.exceptions import TimeoutException\n",
    "from selenium.webdriver.support.ui import WebDriverWait\n",
    "from selenium.webdriver.support import expected_conditions as EC\n",
    "from selenium.webdriver.common.by import By\n",
    "from selenium.webdriver.support.select import Select\n",
    "from bs4 import BeautifulSoup\n",
    "import time"
   ]
  },
  {
   "cell_type": "markdown",
   "metadata": {},
   "source": [
    "# Starting Chrome WebDriver"
   ]
  },
  {
   "cell_type": "code",
   "execution_count": 2,
   "metadata": {},
   "outputs": [],
   "source": [
    "#Use chromedriver version based on your google chrome version\n",
    "#The current machine contains google chrome version 83\n",
    "#please chromedriver.exe based on the verion of your system\n",
    "driver=webdriver.Chrome(r\"chromedriver\")"
   ]
  },
  {
   "cell_type": "markdown",
   "metadata": {},
   "source": [
    "# Visiting Instagram\n",
    "Visiting Instagram and maximizing the window"
   ]
  },
  {
   "cell_type": "code",
   "execution_count": 3,
   "metadata": {},
   "outputs": [],
   "source": [
    "driver.get(\"https://www.instagram.com\")\n",
    "driver.maximize_window()"
   ]
  },
  {
   "cell_type": "markdown",
   "metadata": {},
   "source": [
    "# Input Credentials and Login:\n",
    "Make sure to input appropriate username and password."
   ]
  },
  {
   "cell_type": "code",
   "execution_count": 4,
   "metadata": {},
   "outputs": [],
   "source": [
    "username=\"udaysonubakka123@gmail.com\"\n",
    "password=\"udayyadusonu@2\"\n",
    "waiter=WebDriverWait(driver,20).until(EC.presence_of_element_located((By.NAME,\"username\")))\n",
    "username_field=driver.find_element_by_name('username')\n",
    "password_field=driver.find_element_by_name('password')\n",
    "username_field.send_keys(username)\n",
    "password_field.send_keys(password)\n",
    "Login_btn=driver.find_element_by_class_name('L3NKy')\n",
    "Login_btn.click()"
   ]
  },
  {
   "cell_type": "markdown",
   "metadata": {},
   "source": [
    "# Passing Save Login Info check"
   ]
  },
  {
   "cell_type": "code",
   "execution_count": 5,
   "metadata": {},
   "outputs": [],
   "source": [
    "waiter=WebDriverWait(driver,20).until(EC.presence_of_element_located((By.CLASS_NAME,\"coreSpriteKeyhole\")))\n",
    "Now_now_btn=driver.find_element_by_xpath(\"//button[contains(@class,'sqdOP')]\").click()"
   ]
  },
  {
   "cell_type": "markdown",
   "metadata": {},
   "source": [
    "# Supressing \"Turn On Notifications\" Window:"
   ]
  },
  {
   "cell_type": "code",
   "execution_count": 6,
   "metadata": {},
   "outputs": [],
   "source": [
    "waiter=WebDriverWait(driver,20).until(EC.visibility_of_any_elements_located((By.CLASS_NAME,\"HoLwm\")))\n",
    "driver.find_element_by_class_name('HoLwm').click()"
   ]
  },
  {
   "cell_type": "code",
   "execution_count": 7,
   "metadata": {},
   "outputs": [],
   "source": [
    "waiter=WebDriverWait(driver,20).until(EC.presence_of_element_located((By.CLASS_NAME,\"TqC_a\")))\n",
    "search_box=driver.find_element_by_class_name(\"TqC_a\").click()\n",
    "waiter=WebDriverWait(driver, 20).until(EC.presence_of_element_located((By.CLASS_NAME, \"XTCLo\")))"
   ]
  },
  {
   "cell_type": "markdown",
   "metadata": {},
   "source": [
    "# Input \"Food\" in the search box:"
   ]
  },
  {
   "cell_type": "code",
   "execution_count": 8,
   "metadata": {},
   "outputs": [],
   "source": [
    "search_box=driver.find_element_by_class_name(\"XTCLo\")\n",
    "search_box.send_keys(\"food\")\n"
   ]
  },
  {
   "cell_type": "markdown",
   "metadata": {},
   "source": [
    "**Printing all the names of Instagram Handles that are displayed in list after typing \"food\"**"
   ]
  },
  {
   "cell_type": "code",
   "execution_count": 9,
   "metadata": {},
   "outputs": [
    {
     "name": "stdout",
     "output_type": "stream",
     "text": [
      "dilsefoodie\n",
      "nitjfoodfestival\n",
      "foodtalkindia\n",
      "food_techies\n",
      "streetfoodrecipe\n",
      "foodies_findings\n",
      "food\n",
      "foodtechsociety\n",
      "cchannel_food_id\n",
      "food.facade.fantasy\n",
      "searchingsamayal_foodie\n",
      "foodemyofficial\n",
      "foodiesince96\n",
      "foodbossindia\n",
      "foodl_o_v_e_\n",
      "foodtechaspirant\n",
      "food.tech.plus\n",
      "food_lunatic\n",
      "madras__foodie\n",
      "food_belly11\n",
      "foodtech.__\n",
      "foodtechspace\n",
      "food_and_makeup_lover\n",
      "foodscholarventure\n",
      "foodmaniacindia\n",
      "the.chennai.foodie\n",
      "lets_put_health_first\n",
      "foodiemachaa\n",
      "foodie_addicted_\n",
      "chennai_foodreviews\n",
      "fityetfoodie\n",
      "foodie_incarnate\n",
      "food_first_always\n",
      "thewickedsoul\n",
      "foodhunter_sabu\n",
      "__fooddieeee__\n",
      "foodinsider\n",
      "foodies_at_hm\n",
      "foodpanda_talks\n",
      "buzzfeedfood\n",
      "food_travel_etc\n",
      "foodofdelight\n",
      "street_food_chandigarh\n",
      "foodie_woman\n",
      "foodytravelmoody\n",
      "foodielog\n",
      "resh_taurants\n",
      "food__destinations_\n",
      "foodyypreneur\n",
      "wirallyfood\n",
      "ruchika_asatkar\n",
      "foodelhi\n",
      "foodiesofindia\n",
      "foodozers\n"
     ]
    }
   ],
   "source": [
    "waiter=WebDriverWait(driver,20).until(EC.presence_of_element_located((By.XPATH,\"//a[contains(@class,'yCE8d')]/div/div[2]/div/span\")))\n",
    "for i in driver.find_elements_by_xpath('//a[contains(@class,\"yCE8d\")]/div/div[2]/div/span'):\n",
    "    print(i.get_attribute('innerHTML'))\n"
   ]
  },
  {
   "cell_type": "markdown",
   "metadata": {},
   "source": [
    "# Clearing Input:"
   ]
  },
  {
   "cell_type": "code",
   "execution_count": 10,
   "metadata": {},
   "outputs": [],
   "source": [
    "driver.find_element_by_class_name('coreSpriteSearchClear').click()"
   ]
  },
  {
   "cell_type": "markdown",
   "metadata": {},
   "source": [
    "# Enabling Search box:"
   ]
  },
  {
   "cell_type": "code",
   "execution_count": 11,
   "metadata": {},
   "outputs": [],
   "source": [
    "waiter=WebDriverWait(driver, 10).until(EC.presence_of_element_located((By.CLASS_NAME, \"TqC_a\")))\n",
    "driver.find_element_by_class_name('TqC_a').click()"
   ]
  },
  {
   "cell_type": "markdown",
   "metadata": {},
   "source": [
    "# Searching and Opening profile of \"So Delhi\":"
   ]
  },
  {
   "cell_type": "code",
   "execution_count": 12,
   "metadata": {},
   "outputs": [],
   "source": [
    "waiter=WebDriverWait(driver, 20).until(EC.presence_of_element_located((By.CLASS_NAME, \"XTCLo\")))\n",
    "search_box=driver.find_element_by_class_name('XTCLo')\n",
    "search_box.send_keys('So Delhi')\n",
    "waiter=WebDriverWait(driver, 20).until(EC.presence_of_element_located((By.CLASS_NAME, \"yCE8d\")))"
   ]
  },
  {
   "cell_type": "code",
   "execution_count": 13,
   "metadata": {},
   "outputs": [],
   "source": [
    "driver.find_element_by_class_name('yCE8d').click()\n",
    "waiter=WebDriverWait(driver, 20).until(EC.presence_of_element_located((By.CLASS_NAME, \"_6VtSN\")))"
   ]
  },
  {
   "cell_type": "markdown",
   "metadata": {},
   "source": [
    "# Following So Delhi:"
   ]
  },
  {
   "cell_type": "code",
   "execution_count": 14,
   "metadata": {},
   "outputs": [
    {
     "name": "stdout",
     "output_type": "stream",
     "text": [
      "Started Following\n"
     ]
    }
   ],
   "source": [
    "time.sleep(2.5)\n",
    "if driver.find_element_by_class_name('_6VtSN').get_attribute('innerHTML')=='Follow':\n",
    "    driver.find_element_by_xpath('//button[contains(@class, \"_6VtSN\")]').click()\n",
    "    print(\"Started Following\")\n",
    "else:\n",
    "    print('You are already following the page!')\n",
    "waiter=WebDriverWait(driver, 20).until(EC.presence_of_element_located((By.CLASS_NAME, \"_6VtSN\")))\n",
    "time.sleep(3)"
   ]
  },
  {
   "cell_type": "markdown",
   "metadata": {},
   "source": [
    "# Unfollowing So Delhi :"
   ]
  },
  {
   "cell_type": "code",
   "execution_count": 15,
   "metadata": {},
   "outputs": [
    {
     "name": "stdout",
     "output_type": "stream",
     "text": [
      "Unfollwed page\n"
     ]
    }
   ],
   "source": [
    "if driver.find_element_by_class_name('_6VtSN').get_attribute('innerHTML')!='Follow':\n",
    "    driver.find_element_by_class_name('_6VtSN').click()\n",
    "    waiter=WebDriverWait(driver, 20).until(EC.presence_of_element_located((By.XPATH, '//button[contains(@class, \"-Cab_\")]')))\n",
    "    driver.find_element_by_xpath('//button[contains(@class, \"-Cab_\")]').click()\n",
    "    print(\"Unfollwed page\")\n",
    "else:\n",
    "    print('You have already unfollowed the page')\n"
   ]
  },
  {
   "cell_type": "markdown",
   "metadata": {},
   "source": [
    "# Enabling the search box to visit \"dilsefoodie\":"
   ]
  },
  {
   "cell_type": "code",
   "execution_count": 16,
   "metadata": {},
   "outputs": [],
   "source": [
    "driver.find_element_by_class_name('TqC_a').click()\n",
    "waiter=WebDriverWait(driver, 20).until(EC.presence_of_element_located((By.CLASS_NAME, \"XTCLo\")))"
   ]
  },
  {
   "cell_type": "markdown",
   "metadata": {},
   "source": [
    "# Opening Profile of \"dilsefoodie\":"
   ]
  },
  {
   "cell_type": "code",
   "execution_count": 17,
   "metadata": {},
   "outputs": [],
   "source": [
    "search_box=driver.find_element_by_class_name('XTCLo')\n",
    "search_box.send_keys('dilsefoodie')\n",
    "waiter=WebDriverWait(driver, 20).until(EC.presence_of_element_located((By.CLASS_NAME, \"yCE8d\")))\n",
    "driver.find_element_by_class_name('yCE8d').click()\n",
    "time.sleep(3)"
   ]
  },
  {
   "cell_type": "markdown",
   "metadata": {},
   "source": [
    "# Scrolling down manually to load atleast 30 posts"
   ]
  },
  {
   "cell_type": "code",
   "execution_count": 18,
   "metadata": {},
   "outputs": [],
   "source": [
    "driver.execute_script('window.scrollBy(0,3000);')\n",
    "time.sleep(2.5)\n",
    "driver.execute_script('window.scrollBy(0,3000);')\n",
    "time.sleep(2.5)\n",
    "waiter=WebDriverWait(driver,30).until(EC.presence_of_element_located((By.CLASS_NAME,\"_9AhH0\")))"
   ]
  },
  {
   "cell_type": "markdown",
   "metadata": {},
   "source": [
    "# Liking 30 posts of dilsefoodie:"
   ]
  },
  {
   "cell_type": "code",
   "execution_count": 19,
   "metadata": {},
   "outputs": [
    {
     "name": "stdout",
     "output_type": "stream",
     "text": [
      "Post: 1 Liked\n",
      "Post: 2 Liked\n",
      "Post: 3 Liked\n",
      "Post: 4 Liked\n",
      "Post: 5 Liked\n",
      "Post: 6 Liked\n",
      "Post: 7 Liked\n",
      "Post: 8 Liked\n",
      "Post: 9 Liked\n",
      "Post: 10 Liked\n",
      "Post: 11 Liked\n",
      "Post: 12 Liked\n",
      "Post: 13 Liked\n",
      "Post: 14 Liked\n",
      "Post: 15 Liked\n",
      "Post: 16 Liked\n",
      "Post: 17 Liked\n",
      "Post: 18 Liked\n",
      "Post: 19 Liked\n",
      "Post: 20 Liked\n",
      "Post: 21 Liked\n",
      "Post: 22 Liked\n",
      "Post: 23 Liked\n",
      "Post: 24 Liked\n"
     ]
    }
   ],
   "source": [
    "posts=driver.find_elements_by_class_name(\"_9AhH0\")\n",
    "count=0\n",
    "for post in posts:\n",
    "    try:\n",
    "        post.click()\n",
    "        count+=1\n",
    "        watier=WebDriverWait(driver,20).until(EC.presence_of_element_located((By.CLASS_NAME,'fr66n')))\n",
    "        like_btn=driver.find_element_by_xpath('//span[contains(@class,\"fr66n\")]/button')\n",
    "        if BeautifulSoup(driver.find_element_by_xpath(\"//span[contains(@class,'fr66n')]/button\").get_attribute(\"innerHTML\"),\"html.parser\").svg['aria-label']!='Like':\n",
    "            print(\"Post:\",count,\"Already Liked\")\n",
    "        else:\n",
    "            print(\"Post:\",count,\"Liked\")\n",
    "            like_btn.click()\n",
    "\n",
    "        driver.find_elements_by_xpath(\"//button[contains(@class,'wpO6b')]\")[-1].click()\n",
    "    except StaleElementReferenceException:\n",
    "            break\n",
    "    \n"
   ]
  },
  {
   "cell_type": "markdown",
   "metadata": {},
   "source": [
    "# Unliking 30 posts of dilsefoodie:"
   ]
  },
  {
   "cell_type": "code",
   "execution_count": 20,
   "metadata": {},
   "outputs": [
    {
     "name": "stdout",
     "output_type": "stream",
     "text": [
      "Post: 1 Unliked\n",
      "Post: 2 Unliked\n",
      "Post: 3 Unliked\n"
     ]
    },
    {
     "ename": "ElementClickInterceptedException",
     "evalue": "Message: element click intercepted: Element <div class=\"_9AhH0\"></div> is not clickable at point (318, 443). Other element would receive the click: <div class=\"RnEpo Yx5HN    \" role=\"presentation\">...</div>\n  (Session info: chrome=83.0.4103.116)\n",
     "output_type": "error",
     "traceback": [
      "\u001b[1;31m---------------------------------------------------------------------------\u001b[0m",
      "\u001b[1;31mElementClickInterceptedException\u001b[0m          Traceback (most recent call last)",
      "\u001b[1;32m<ipython-input-20-855db1c02126>\u001b[0m in \u001b[0;36m<module>\u001b[1;34m\u001b[0m\n\u001b[0;32m      2\u001b[0m \u001b[1;32mfor\u001b[0m \u001b[0mpost\u001b[0m \u001b[1;32min\u001b[0m \u001b[0mposts\u001b[0m\u001b[1;33m:\u001b[0m\u001b[1;33m\u001b[0m\u001b[1;33m\u001b[0m\u001b[0m\n\u001b[0;32m      3\u001b[0m     \u001b[1;32mtry\u001b[0m\u001b[1;33m:\u001b[0m\u001b[1;33m\u001b[0m\u001b[1;33m\u001b[0m\u001b[0m\n\u001b[1;32m----> 4\u001b[1;33m         \u001b[0mpost\u001b[0m\u001b[1;33m.\u001b[0m\u001b[0mclick\u001b[0m\u001b[1;33m(\u001b[0m\u001b[1;33m)\u001b[0m\u001b[1;33m\u001b[0m\u001b[1;33m\u001b[0m\u001b[0m\n\u001b[0m\u001b[0;32m      5\u001b[0m         \u001b[0mcount\u001b[0m\u001b[1;33m+=\u001b[0m\u001b[1;36m1\u001b[0m\u001b[1;33m\u001b[0m\u001b[1;33m\u001b[0m\u001b[0m\n\u001b[0;32m      6\u001b[0m         \u001b[0mwatier\u001b[0m\u001b[1;33m=\u001b[0m\u001b[0mWebDriverWait\u001b[0m\u001b[1;33m(\u001b[0m\u001b[0mdriver\u001b[0m\u001b[1;33m,\u001b[0m\u001b[1;36m20\u001b[0m\u001b[1;33m)\u001b[0m\u001b[1;33m.\u001b[0m\u001b[0muntil\u001b[0m\u001b[1;33m(\u001b[0m\u001b[0mEC\u001b[0m\u001b[1;33m.\u001b[0m\u001b[0mpresence_of_element_located\u001b[0m\u001b[1;33m(\u001b[0m\u001b[1;33m(\u001b[0m\u001b[0mBy\u001b[0m\u001b[1;33m.\u001b[0m\u001b[0mCLASS_NAME\u001b[0m\u001b[1;33m,\u001b[0m\u001b[1;34m'fr66n'\u001b[0m\u001b[1;33m)\u001b[0m\u001b[1;33m)\u001b[0m\u001b[1;33m)\u001b[0m\u001b[1;33m\u001b[0m\u001b[1;33m\u001b[0m\u001b[0m\n",
      "\u001b[1;32m~\\Anaconda3\\lib\\site-packages\\selenium\\webdriver\\remote\\webelement.py\u001b[0m in \u001b[0;36mclick\u001b[1;34m(self)\u001b[0m\n\u001b[0;32m     78\u001b[0m     \u001b[1;32mdef\u001b[0m \u001b[0mclick\u001b[0m\u001b[1;33m(\u001b[0m\u001b[0mself\u001b[0m\u001b[1;33m)\u001b[0m\u001b[1;33m:\u001b[0m\u001b[1;33m\u001b[0m\u001b[1;33m\u001b[0m\u001b[0m\n\u001b[0;32m     79\u001b[0m         \u001b[1;34m\"\"\"Clicks the element.\"\"\"\u001b[0m\u001b[1;33m\u001b[0m\u001b[1;33m\u001b[0m\u001b[0m\n\u001b[1;32m---> 80\u001b[1;33m         \u001b[0mself\u001b[0m\u001b[1;33m.\u001b[0m\u001b[0m_execute\u001b[0m\u001b[1;33m(\u001b[0m\u001b[0mCommand\u001b[0m\u001b[1;33m.\u001b[0m\u001b[0mCLICK_ELEMENT\u001b[0m\u001b[1;33m)\u001b[0m\u001b[1;33m\u001b[0m\u001b[1;33m\u001b[0m\u001b[0m\n\u001b[0m\u001b[0;32m     81\u001b[0m \u001b[1;33m\u001b[0m\u001b[0m\n\u001b[0;32m     82\u001b[0m     \u001b[1;32mdef\u001b[0m \u001b[0msubmit\u001b[0m\u001b[1;33m(\u001b[0m\u001b[0mself\u001b[0m\u001b[1;33m)\u001b[0m\u001b[1;33m:\u001b[0m\u001b[1;33m\u001b[0m\u001b[1;33m\u001b[0m\u001b[0m\n",
      "\u001b[1;32m~\\Anaconda3\\lib\\site-packages\\selenium\\webdriver\\remote\\webelement.py\u001b[0m in \u001b[0;36m_execute\u001b[1;34m(self, command, params)\u001b[0m\n\u001b[0;32m    631\u001b[0m             \u001b[0mparams\u001b[0m \u001b[1;33m=\u001b[0m \u001b[1;33m{\u001b[0m\u001b[1;33m}\u001b[0m\u001b[1;33m\u001b[0m\u001b[1;33m\u001b[0m\u001b[0m\n\u001b[0;32m    632\u001b[0m         \u001b[0mparams\u001b[0m\u001b[1;33m[\u001b[0m\u001b[1;34m'id'\u001b[0m\u001b[1;33m]\u001b[0m \u001b[1;33m=\u001b[0m \u001b[0mself\u001b[0m\u001b[1;33m.\u001b[0m\u001b[0m_id\u001b[0m\u001b[1;33m\u001b[0m\u001b[1;33m\u001b[0m\u001b[0m\n\u001b[1;32m--> 633\u001b[1;33m         \u001b[1;32mreturn\u001b[0m \u001b[0mself\u001b[0m\u001b[1;33m.\u001b[0m\u001b[0m_parent\u001b[0m\u001b[1;33m.\u001b[0m\u001b[0mexecute\u001b[0m\u001b[1;33m(\u001b[0m\u001b[0mcommand\u001b[0m\u001b[1;33m,\u001b[0m \u001b[0mparams\u001b[0m\u001b[1;33m)\u001b[0m\u001b[1;33m\u001b[0m\u001b[1;33m\u001b[0m\u001b[0m\n\u001b[0m\u001b[0;32m    634\u001b[0m \u001b[1;33m\u001b[0m\u001b[0m\n\u001b[0;32m    635\u001b[0m     \u001b[1;32mdef\u001b[0m \u001b[0mfind_element\u001b[0m\u001b[1;33m(\u001b[0m\u001b[0mself\u001b[0m\u001b[1;33m,\u001b[0m \u001b[0mby\u001b[0m\u001b[1;33m=\u001b[0m\u001b[0mBy\u001b[0m\u001b[1;33m.\u001b[0m\u001b[0mID\u001b[0m\u001b[1;33m,\u001b[0m \u001b[0mvalue\u001b[0m\u001b[1;33m=\u001b[0m\u001b[1;32mNone\u001b[0m\u001b[1;33m)\u001b[0m\u001b[1;33m:\u001b[0m\u001b[1;33m\u001b[0m\u001b[1;33m\u001b[0m\u001b[0m\n",
      "\u001b[1;32m~\\Anaconda3\\lib\\site-packages\\selenium\\webdriver\\remote\\webdriver.py\u001b[0m in \u001b[0;36mexecute\u001b[1;34m(self, driver_command, params)\u001b[0m\n\u001b[0;32m    319\u001b[0m         \u001b[0mresponse\u001b[0m \u001b[1;33m=\u001b[0m \u001b[0mself\u001b[0m\u001b[1;33m.\u001b[0m\u001b[0mcommand_executor\u001b[0m\u001b[1;33m.\u001b[0m\u001b[0mexecute\u001b[0m\u001b[1;33m(\u001b[0m\u001b[0mdriver_command\u001b[0m\u001b[1;33m,\u001b[0m \u001b[0mparams\u001b[0m\u001b[1;33m)\u001b[0m\u001b[1;33m\u001b[0m\u001b[1;33m\u001b[0m\u001b[0m\n\u001b[0;32m    320\u001b[0m         \u001b[1;32mif\u001b[0m \u001b[0mresponse\u001b[0m\u001b[1;33m:\u001b[0m\u001b[1;33m\u001b[0m\u001b[1;33m\u001b[0m\u001b[0m\n\u001b[1;32m--> 321\u001b[1;33m             \u001b[0mself\u001b[0m\u001b[1;33m.\u001b[0m\u001b[0merror_handler\u001b[0m\u001b[1;33m.\u001b[0m\u001b[0mcheck_response\u001b[0m\u001b[1;33m(\u001b[0m\u001b[0mresponse\u001b[0m\u001b[1;33m)\u001b[0m\u001b[1;33m\u001b[0m\u001b[1;33m\u001b[0m\u001b[0m\n\u001b[0m\u001b[0;32m    322\u001b[0m             response['value'] = self._unwrap_value(\n\u001b[0;32m    323\u001b[0m                 response.get('value', None))\n",
      "\u001b[1;32m~\\Anaconda3\\lib\\site-packages\\selenium\\webdriver\\remote\\errorhandler.py\u001b[0m in \u001b[0;36mcheck_response\u001b[1;34m(self, response)\u001b[0m\n\u001b[0;32m    240\u001b[0m                 \u001b[0malert_text\u001b[0m \u001b[1;33m=\u001b[0m \u001b[0mvalue\u001b[0m\u001b[1;33m[\u001b[0m\u001b[1;34m'alert'\u001b[0m\u001b[1;33m]\u001b[0m\u001b[1;33m.\u001b[0m\u001b[0mget\u001b[0m\u001b[1;33m(\u001b[0m\u001b[1;34m'text'\u001b[0m\u001b[1;33m)\u001b[0m\u001b[1;33m\u001b[0m\u001b[1;33m\u001b[0m\u001b[0m\n\u001b[0;32m    241\u001b[0m             \u001b[1;32mraise\u001b[0m \u001b[0mexception_class\u001b[0m\u001b[1;33m(\u001b[0m\u001b[0mmessage\u001b[0m\u001b[1;33m,\u001b[0m \u001b[0mscreen\u001b[0m\u001b[1;33m,\u001b[0m \u001b[0mstacktrace\u001b[0m\u001b[1;33m,\u001b[0m \u001b[0malert_text\u001b[0m\u001b[1;33m)\u001b[0m\u001b[1;33m\u001b[0m\u001b[1;33m\u001b[0m\u001b[0m\n\u001b[1;32m--> 242\u001b[1;33m         \u001b[1;32mraise\u001b[0m \u001b[0mexception_class\u001b[0m\u001b[1;33m(\u001b[0m\u001b[0mmessage\u001b[0m\u001b[1;33m,\u001b[0m \u001b[0mscreen\u001b[0m\u001b[1;33m,\u001b[0m \u001b[0mstacktrace\u001b[0m\u001b[1;33m)\u001b[0m\u001b[1;33m\u001b[0m\u001b[1;33m\u001b[0m\u001b[0m\n\u001b[0m\u001b[0;32m    243\u001b[0m \u001b[1;33m\u001b[0m\u001b[0m\n\u001b[0;32m    244\u001b[0m     \u001b[1;32mdef\u001b[0m \u001b[0m_value_or_default\u001b[0m\u001b[1;33m(\u001b[0m\u001b[0mself\u001b[0m\u001b[1;33m,\u001b[0m \u001b[0mobj\u001b[0m\u001b[1;33m,\u001b[0m \u001b[0mkey\u001b[0m\u001b[1;33m,\u001b[0m \u001b[0mdefault\u001b[0m\u001b[1;33m)\u001b[0m\u001b[1;33m:\u001b[0m\u001b[1;33m\u001b[0m\u001b[1;33m\u001b[0m\u001b[0m\n",
      "\u001b[1;31mElementClickInterceptedException\u001b[0m: Message: element click intercepted: Element <div class=\"_9AhH0\"></div> is not clickable at point (318, 443). Other element would receive the click: <div class=\"RnEpo Yx5HN    \" role=\"presentation\">...</div>\n  (Session info: chrome=83.0.4103.116)\n"
     ]
    }
   ],
   "source": [
    "count=0\n",
    "for post in posts:\n",
    "    try:\n",
    "        post.click()\n",
    "        count+=1\n",
    "        watier=WebDriverWait(driver,20).until(EC.presence_of_element_located((By.CLASS_NAME,'fr66n')))\n",
    "        like_btn=driver.find_element_by_xpath('//span[contains(@class,\"fr66n\")]/button')\n",
    "        if BeautifulSoup(driver.find_element_by_xpath(\"//span[contains(@class,'fr66n')]/button\").get_attribute(\"innerHTML\"),\"html.parser\").svg['aria-label']=='Like':\n",
    "            print(\"Post:\",count,\"Already Unliked\")\n",
    "        else:\n",
    "            print(\"Post:\",count,\"Unliked\")\n",
    "            like_btn.click()\n",
    "\n",
    "        driver.find_elements_by_xpath(\"//button[contains(@class,'wpO6b')]\")[-1].click()\n",
    "    except StaleElementReferenceException:\n",
    "        break\n"
   ]
  },
  {
   "cell_type": "markdown",
   "metadata": {},
   "source": [
    " # Visiting So Delhi"
   ]
  },
  {
   "cell_type": "code",
   "execution_count": null,
   "metadata": {},
   "outputs": [],
   "source": [
    "driver.find_element_by_class_name('TqC_a').click()\n",
    "waiter=WebDriverWait(driver, 20).until(EC.presence_of_element_located((By.CLASS_NAME, \"XTCLo\")))"
   ]
  },
  {
   "cell_type": "code",
   "execution_count": null,
   "metadata": {},
   "outputs": [],
   "source": [
    "search_box=driver.find_element_by_class_name('XTCLo')\n",
    "search_box.send_keys('So Delhi')\n",
    "waiter=WebDriverWait(driver, 20).until(EC.presence_of_element_located((By.CLASS_NAME, \"yCE8d\")))"
   ]
  },
  {
   "cell_type": "code",
   "execution_count": null,
   "metadata": {},
   "outputs": [],
   "source": [
    "driver.find_element_by_class_name('yCE8d').click()\n",
    "waiter=WebDriverWait(driver, 20).until(EC.presence_of_element_located((By.CLASS_NAME, \"_6VtSN\")))\n",
    "time.sleep(3)"
   ]
  },
  {
   "cell_type": "markdown",
   "metadata": {},
   "source": [
    "# Extracting the usernames of the first 500 followers of 'sodelhi':"
   ]
  },
  {
   "cell_type": "code",
   "execution_count": null,
   "metadata": {},
   "outputs": [],
   "source": [
    "# try:\n",
    "#     driver.execute_script('window.scrollTo(0, 0)')\n",
    "#     driver.find_element_by_xpath('//a[@class=\"-nal3 \"]/span[@class=\"g47SY \"]').click()\n",
    "# except NoSuchElementException:\n",
    "driver.find_elements_by_xpath('//span[contains(@class, \"g47SY \")]')[1].click()\n",
    "waiter=WebDriverWait(driver, 30).until(EC.presence_of_element_located((By.XPATH, '//a[contains(@class, \"notranslate\")]')))"
   ]
  },
  {
   "cell_type": "code",
   "execution_count": null,
   "metadata": {},
   "outputs": [],
   "source": [
    "time.sleep(2.5)\n",
    "while True:\n",
    "    try:\n",
    "        sodelhi=[]\n",
    "        count=0\n",
    "        while True:\n",
    "            elements=driver.find_elements_by_xpath('//a[contains(@class, \"notranslate\")]')\n",
    "            if len(elements)<500:\n",
    "                waiter=WebDriverWait(driver, 20).until(EC.presence_of_element_located((By.XPATH, '//ul[contains(@class, \"jSC57\")]')))\n",
    "                driver.execute_script('arguments[0].scrollIntoView(0, 100);', driver.find_element_by_xpath('//ul[contains(@class, \"jSC57\")]'))\n",
    "                time.sleep(0.8)\n",
    "            i=elements[count]\n",
    "            sodelhi.append(i.get_attribute('innerHTML'))\n",
    "            if len(sodelhi)>=500:\n",
    "                break\n",
    "            count+=1\n",
    "            print(count,\"user added to list\")\n",
    "        break\n",
    "    except StaleElementReferenceException:\n",
    "        continue\n",
    "    except IndexError:\n",
    "        driver.find_elements_by_class_name('WaOAr')[1].click()\n",
    "        driver.find_elements_by_xpath('//span[contains(@class, \"g47SY \")]')[1].click()\n",
    "print(sodelhi)"
   ]
  },
  {
   "cell_type": "code",
   "execution_count": null,
   "metadata": {},
   "outputs": [],
   "source": [
    "driver.find_elements_by_class_name('WaOAr')[1].click()\n",
    "waiter=WebDriverWait(driver, 20).until(EC.presence_of_element_located((By.CLASS_NAME, \"TqC_a\")))"
   ]
  },
  {
   "cell_type": "markdown",
   "metadata": {},
   "source": [
    "# Extracting the usernames of the first 500 followers of 'foodtalkindia':"
   ]
  },
  {
   "cell_type": "code",
   "execution_count": null,
   "metadata": {},
   "outputs": [],
   "source": [
    "driver.find_element_by_class_name('TqC_a').click()\n",
    "search_box=driver.find_element_by_class_name('XTCLo')\n",
    "search_box.send_keys('foodtalkindia')\n",
    "waiter=WebDriverWait(driver, 20).until(EC.presence_of_element_located((By.CLASS_NAME, \"yCE8d\")))"
   ]
  },
  {
   "cell_type": "code",
   "execution_count": null,
   "metadata": {},
   "outputs": [],
   "source": [
    "driver.find_element_by_class_name('yCE8d').click()\n",
    "waiter=WebDriverWait(driver, 20).until(EC.element_to_be_clickable((By.XPATH, '//a[@class=\"-nal3 \"]/span[@class=\"g47SY \"]')))\n",
    "time.sleep(2)"
   ]
  },
  {
   "cell_type": "code",
   "execution_count": null,
   "metadata": {},
   "outputs": [],
   "source": [
    "driver.find_elements_by_xpath('//span[contains(@class, \"g47SY \")]')[1].click()\n",
    "waiter=WebDriverWait(driver, 20).until(EC.presence_of_element_located((By.XPATH, '//a[contains(@class, \"notranslate\")]')))"
   ]
  },
  {
   "cell_type": "code",
   "execution_count": null,
   "metadata": {},
   "outputs": [],
   "source": [
    "time.sleep(2.5)\n",
    "while True:\n",
    "    try:\n",
    "        foodtalkindia=[]\n",
    "        count=0\n",
    "        while True:\n",
    "            elements=driver.find_elements_by_xpath('//a[contains(@class, \"notranslate\")]')\n",
    "            if len(elements)<500:\n",
    "                waiter=WebDriverWait(driver, 20).until(EC.presence_of_element_located((By.XPATH, '//ul[contains(@class, \"jSC57\")]')))\n",
    "                driver.execute_script('arguments[0].scrollIntoView(0, 100);', driver.find_element_by_xpath('//ul[contains(@class, \"jSC57\")]'))\n",
    "                time.sleep(0.8)\n",
    "            i=elements[count]\n",
    "            foodtalkindia.append(i.get_attribute('innerHTML'))\n",
    "            if len(foodtalkindia)>=500:\n",
    "                break\n",
    "            count+=1\n",
    "            print(count,\"user added to list\")\n",
    "        break\n",
    "    except StaleElementReferenceException:\n",
    "        continue\n",
    "    except IndexError:\n",
    "        driver.find_elements_by_class_name('WaOAr')[1].click()\n",
    "        driver.find_elements_by_xpath('//span[contains(@class, \"g47SY \")]')[1].click()\n",
    "\n",
    "driver.find_elements_by_class_name('WaOAr')[1].click()\n",
    "print(foodtalkindia)\n",
    "time.sleep(2)"
   ]
  },
  {
   "cell_type": "code",
   "execution_count": null,
   "metadata": {},
   "outputs": [],
   "source": [
    "#opening user profile"
   ]
  },
  {
   "cell_type": "code",
   "execution_count": null,
   "metadata": {},
   "outputs": [],
   "source": [
    "# k=driver.find_elements_by_class_name('WaOAr')\n",
    "# print(k)\n",
    "# waiter=WebDriverWait(driver, 30).until(EC.presence_of_element_located((By.CLASS_NAME, \"TqC_a\")))\n",
    "driver.find_elements_by_class_name(\"Fifk5\")[-1].click()"
   ]
  },
  {
   "cell_type": "markdown",
   "metadata": {},
   "source": [
    "# Printing all the followers of \"foodtalkindia\" who are also following user:\n",
    "I did this by extracting and saving a list of all the user's followers(myfollowers) and those who are \n",
    "followed by te user(following) and getting the answer\n",
    "by using \n",
    "\"(followers_of_foodtalkindia_that_user_is_following)-(user's_followers)\""
   ]
  },
  {
   "cell_type": "code",
   "execution_count": null,
   "metadata": {},
   "outputs": [],
   "source": [
    "# driver.find_element_by_class_name('glyphsSpriteX__outline__24__grey_9').click()\n",
    "# waiter=WebDriverWait(driver, 20).until(EC.presence_of_element_located((By.CLASS_NAME, \"glyphsSpriteUser__outline__24__grey_9\")))\n",
    "# time.sleep(3)\n",
    "# driver.find_element_by_class_name('yCE8d').click()\n",
    "waiter=WebDriverWait(driver, 20).until(EC.element_to_be_clickable((By.XPATH, '//a[@class=\"-nal3 \"]/span[@class=\"g47SY \"]')))\n",
    "time.sleep(2)\n",
    "driver.find_elements_by_xpath('//span[contains(@class, \"g47SY \")]')[1].click()\n",
    "waiter=WebDriverWait(driver, 20).until(EC.presence_of_element_located((By.XPATH, '//a[contains(@class, \"notranslate\")]')))"
   ]
  },
  {
   "cell_type": "code",
   "execution_count": null,
   "metadata": {},
   "outputs": [],
   "source": [
    "num_followers=int(driver.find_elements_by_xpath('//span[contains(@class, \"g47SY \")]')[1].get_attribute(\"innerHTML\"))"
   ]
  },
  {
   "cell_type": "code",
   "execution_count": null,
   "metadata": {},
   "outputs": [],
   "source": [
    "time.sleep(2.5)\n",
    "while True:\n",
    "    try:\n",
    "        userfollowers=[]\n",
    "        count=0\n",
    "        while True:\n",
    "            elements=driver.find_elements_by_xpath('//a[contains(@class, \"notranslate\")]')\n",
    "            if len(elements)<=num_followers:\n",
    "                waiter=WebDriverWait(driver, 20).until(EC.presence_of_element_located((By.XPATH, '//ul[contains(@class, \"jSC57\")]')))\n",
    "                driver.execute_script('arguments[0].scrollIntoView(0, 100);', driver.find_element_by_xpath('//ul[contains(@class, \"jSC57\")]'))\n",
    "                time.sleep(0.8)\n",
    "            i=elements[count]\n",
    "            \n",
    "            userfollowers.append(i.get_attribute('innerHTML'))\n",
    "            if len(userfollowers)>=num_followers:\n",
    "                break\n",
    "            count+=1\n",
    "            print(count,\"user added to list\")\n",
    "        break\n",
    "    except StaleElementReferenceException:\n",
    "        continue\n",
    "    except IndexError:\n",
    "        driver.find_elements_by_class_name('WaOAr')[1].click()\n",
    "        driver.find_elements_by_xpath('//span[contains(@class, \"g47SY \")]')[1].click()\n",
    "\n",
    "driver.find_elements_by_class_name('WaOAr')[1].click()\n",
    "print(userfollowers)\n",
    "time.sleep(2)"
   ]
  },
  {
   "cell_type": "code",
   "execution_count": null,
   "metadata": {},
   "outputs": [],
   "source": [
    "print(\"Followers Of foodtalk india who are also following user\")\n",
    "for i in foodtalkindia:\n",
    "    if i in userfollowers:\n",
    "        print(i)"
   ]
  },
  {
   "cell_type": "markdown",
   "metadata": {},
   "source": [
    "# Visiting Coding Ninjas and checking their story with given conditions:"
   ]
  },
  {
   "cell_type": "code",
   "execution_count": null,
   "metadata": {},
   "outputs": [],
   "source": [
    "driver.find_elements_by_class_name('_8-yf5')[-4].click()\n",
    "waiter=WebDriverWait(driver, 20).until(EC.presence_of_element_located((By.CLASS_NAME, \"TqC_a\")))"
   ]
  },
  {
   "cell_type": "code",
   "execution_count": null,
   "metadata": {},
   "outputs": [],
   "source": [
    "driver.find_element_by_class_name('TqC_a').click()\n",
    "\n",
    "search_box=driver.find_element_by_class_name('XTCLo')\n",
    "search_box.send_keys('coding.ninjas')\n",
    "waiter=WebDriverWait(driver, 20).until(EC.presence_of_element_located((By.CLASS_NAME, \"yCE8d\")))"
   ]
  },
  {
   "cell_type": "code",
   "execution_count": null,
   "metadata": {},
   "outputs": [],
   "source": [
    "driver.find_element_by_class_name('yCE8d').click()\n",
    "time.sleep(3)"
   ]
  },
  {
   "cell_type": "code",
   "execution_count": null,
   "metadata": {},
   "outputs": [],
   "source": [
    "try:\n",
    "    if '168' in (driver.find_element_by_xpath('//div[contains(@class, \"h5uC0\")]/canvas').get_attribute('style')):\n",
    "        print('You have not seen the story yet! The story will be shown to you now. check out the driver window')\n",
    "        driver.find_element_by_xpath('//div[contains(@class, \"h5uC0\")]').click()\n",
    "    elif '166' in (driver.find_element_by_xpath('//div[contains(@class, \"h5uC0\")]/canvas').get_attribute('style')):\n",
    "        print('You have already seen the story!')\n",
    "except NoSuchElementException:\n",
    "    print('The user has no story!')"
   ]
  },
  {
   "cell_type": "code",
   "execution_count": null,
   "metadata": {},
   "outputs": [],
   "source": []
  }
 ],
 "metadata": {
  "kernelspec": {
   "display_name": "Python 3",
   "language": "python",
   "name": "python3"
  },
  "language_info": {
   "codemirror_mode": {
    "name": "ipython",
    "version": 3
   },
   "file_extension": ".py",
   "mimetype": "text/x-python",
   "name": "python",
   "nbconvert_exporter": "python",
   "pygments_lexer": "ipython3",
   "version": "3.7.4"
  }
 },
 "nbformat": 4,
 "nbformat_minor": 2
}
