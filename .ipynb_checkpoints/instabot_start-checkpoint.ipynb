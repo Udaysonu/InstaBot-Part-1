{
 "cells": [
  {
   "cell_type": "markdown",
   "metadata": {},
   "source": [
    "# Usage Instructions\n",
    "* Just run the complete code once. Do not run each Cell separatly.\n",
    "* Let the driver window run in **maximised mode**. Do not run it in windowed mode(it will maximise by itself)\n",
    "* Just run the code, sit back and relax\n",
    "* Do not make any changes in the code except the SAMPLE_USERNAME and SAMPLE_PASSWORD. You can easily change them by refering the code below.\n",
    "* **This code is written and tested with 4G network(AIRTEL)**. If you are using a 3G connection, you might want to change the time gap between several cells(at the end of some cells there is a line of code whose parameters you might want to alter.\n",
    "* **Recommended network is Airtel 4G or Jio 4G**.\n",
    "* Sometimes you will fell like website is frozen. No! Its not. The cod is still running doing its work. You will notice this specially when the list of followers is being scrolled down. it will take sometime to read through all the follower's usernames."
   ]
  },
  {
   "cell_type": "markdown",
   "metadata": {},
   "source": [
    "# Importing Important Libraries"
   ]
  },
  {
   "cell_type": "code",
   "execution_count": 1,
   "metadata": {},
   "outputs": [],
   "source": [
    "from selenium import webdriver\n",
    "from selenium.common.exceptions import NoSuchElementException\n",
    "from selenium.common.exceptions import StaleElementReferenceException\n",
    "from selenium.common.exceptions import TimeoutException\n",
    "from selenium.webdriver.support.ui import WebDriverWait\n",
    "from selenium.webdriver.support import expected_conditions as EC\n",
    "from selenium.webdriver.common.by import By\n",
    "from selenium.webdriver.support.select import Select\n",
    "import time"
   ]
  },
  {
   "cell_type": "markdown",
   "metadata": {},
   "source": [
    "# Starting Chrome WebDriver"
   ]
  },
  {
   "cell_type": "code",
   "execution_count": 2,
   "metadata": {},
   "outputs": [],
   "source": [
    "#Use chromedriver version based on your google chrome version\n",
    "#The current machine contains google chrome version 83\n",
    "#please chromedriver.exe based on the verion of your system\n",
    "driver=webdriver.Chrome(r\"chromedriver\")"
   ]
  },
  {
   "cell_type": "markdown",
   "metadata": {},
   "source": [
    "# Visiting Instagram\n",
    "Visiting Instagram and maximizing the window"
   ]
  },
  {
   "cell_type": "code",
   "execution_count": 3,
   "metadata": {},
   "outputs": [],
   "source": [
    "driver.get(\"https://www.instagram.com\")\n",
    "driver.maximize_window()"
   ]
  },
  {
   "cell_type": "markdown",
   "metadata": {},
   "source": [
    "# Input Credentials and Login:\n",
    "Make sure to input appropriate username and password."
   ]
  },
  {
   "cell_type": "code",
   "execution_count": 4,
   "metadata": {},
   "outputs": [],
   "source": [
    "username=\"USERNAME\"\n",
    "password=\"PASSWORD\"\n",
    "waiter=WebDriverWait(driver,10).until(EC.presence_of_element_located((By.NAME,\"username\")))\n",
    "username_field=driver.find_element_by_name('username')\n",
    "password_field=driver.find_element_by_name('password')\n",
    "username_field.send_keys(username)\n",
    "password_field.send_keys(password)\n",
    "Login_btn=driver.find_element_by_class_name('L3NKy')\n",
    "Login_btn.click()"
   ]
  },
  {
   "cell_type": "markdown",
   "metadata": {},
   "source": [
    "# Passing Save Login Info check"
   ]
  },
  {
   "cell_type": "code",
   "execution_count": 5,
   "metadata": {},
   "outputs": [],
   "source": [
    "waiter=WebDriverWait(driver,10).until(EC.presence_of_element_located((By.CLASS_NAME,\"coreSpriteKeyhole\")))\n",
    "Now_now_btn=driver.find_element_by_xpath(\"//button[contains(@class,'sqdOP')]\").click()"
   ]
  },
  {
   "cell_type": "markdown",
   "metadata": {},
   "source": [
    "# Supressing \"Turn On Notifications\" Window:"
   ]
  },
  {
   "cell_type": "code",
   "execution_count": 6,
   "metadata": {},
   "outputs": [],
   "source": [
    "waiter=WebDriverWait(driver,5).until(EC.visibility_of_any_elements_located((By.CLASS_NAME,\"HoLwm\")))\n",
    "driver.find_element_by_class_name('HoLwm').click()"
   ]
  },
  {
   "cell_type": "code",
   "execution_count": 7,
   "metadata": {},
   "outputs": [],
   "source": [
    "waiter=WebDriverWait(driver,10).until(EC.presence_of_element_located((By.CLASS_NAME,\"TqC_a\")))\n",
    "search_box=driver.find_element_by_class_name(\"TqC_a\").click()\n",
    "waiter=WebDriverWait(driver, 10).until(EC.presence_of_element_located((By.CLASS_NAME, \"XTCLo\")))"
   ]
  },
  {
   "cell_type": "markdown",
   "metadata": {},
   "source": [
    "# Input \"Food\" in the search box:"
   ]
  },
  {
   "cell_type": "code",
   "execution_count": 8,
   "metadata": {},
   "outputs": [],
   "source": [
    "search_box=driver.find_element_by_class_name(\"XTCLo\")\n",
    "search_box.send_keys(\"food\")\n"
   ]
  },
  {
   "cell_type": "markdown",
   "metadata": {},
   "source": [
    "**Printing all the names of Instagram Handles that are displayed in list after typing \"food\"**"
   ]
  },
  {
   "cell_type": "code",
   "execution_count": 9,
   "metadata": {},
   "outputs": [
    {
     "name": "stdout",
     "output_type": "stream",
     "text": [
      "streetfoodrecipe\n",
      "foodtech.__\n",
      "nitjfoodfestival\n",
      "foodscholarventure\n",
      "foodies_findings\n",
      "dilsefoodie\n",
      "food\n",
      "foodtechaspirant\n",
      "foodtechspace\n",
      "food.facade.fantasy\n",
      "food.sector\n",
      "foodemyofficial\n",
      "foodies_at_hm\n",
      "food_fetishize\n",
      "fsnh.solutions\n",
      "food_tech_updates\n",
      "foodl_o_v_e_\n",
      "foodie_addicted_\n",
      "foodpanda_talks\n",
      "food___diaries__\n",
      "foodtastingmission\n",
      "madras__foodie\n",
      "thehungrygujju\n",
      "food_techies\n",
      "searchingsamayal_foodie\n",
      "wirallyfood\n",
      "yourfoodlab\n",
      "foodozers\n",
      "FOOD BAZAR\n",
      "foodtechsociety\n",
      "food.tech.plus\n",
      "foodtalkindia\n",
      "foodyypreneur\n",
      "foodtech_simplified\n",
      "foodandmorewithhansie\n",
      "food_belly11\n",
      "foodtrails.india\n",
      "the.chennai.foodie\n",
      "foodhunter_sabu\n",
      "buzzfeedfood\n",
      "resh_taurants\n",
      "food_lunatic\n",
      "socalledfoodies\n",
      "lets_put_health_first\n",
      "thehydfoodie\n",
      "food_rovers_bay\n",
      "chocolateparadise\n",
      "purabinaha\n",
      "food_gambler\n",
      "foodnetwork\n",
      "foodchoiceofmumbai\n",
      "food_clicker_\n",
      "foodlty\n"
     ]
    }
   ],
   "source": [
    "waiter=WebDriverWait(driver,10).until(EC.presence_of_element_located((By.XPATH,\"//a[contains(@class,'yCE8d')]/div/div[2]/div/span\")))\n",
    "for i in driver.find_elements_by_xpath('//a[contains(@class,\"yCE8d\")]/div/div[2]/div/span'):\n",
    "    print(i.get_attribute('innerHTML'))\n"
   ]
  },
  {
   "cell_type": "markdown",
   "metadata": {},
   "source": [
    "# Clearing Input:"
   ]
  },
  {
   "cell_type": "code",
   "execution_count": 10,
   "metadata": {},
   "outputs": [],
   "source": [
    "driver.find_element_by_class_name('coreSpriteSearchClear').click()"
   ]
  },
  {
   "cell_type": "markdown",
   "metadata": {},
   "source": [
    "# Enabling Search box:"
   ]
  },
  {
   "cell_type": "code",
   "execution_count": 11,
   "metadata": {},
   "outputs": [],
   "source": [
    "waiter=WebDriverWait(driver, 10).until(EC.presence_of_element_located((By.CLASS_NAME, \"TqC_a\")))\n",
    "driver.find_element_by_class_name('TqC_a').click()"
   ]
  },
  {
   "cell_type": "markdown",
   "metadata": {},
   "source": [
    "# Searching and Opening profile of \"So Delhi\":"
   ]
  },
  {
   "cell_type": "code",
   "execution_count": 12,
   "metadata": {},
   "outputs": [],
   "source": [
    "waiter=WebDriverWait(driver, 10).until(EC.presence_of_element_located((By.CLASS_NAME, \"XTCLo\")))\n",
    "search_box=driver.find_element_by_class_name('XTCLo')\n",
    "search_box.send_keys('So Delhi')\n",
    "waiter=WebDriverWait(driver, 10).until(EC.presence_of_element_located((By.CLASS_NAME, \"yCE8d\")))"
   ]
  },
  {
   "cell_type": "code",
   "execution_count": 13,
   "metadata": {},
   "outputs": [],
   "source": [
    "driver.find_element_by_class_name('yCE8d').click()\n",
    "waiter=WebDriverWait(driver, 15).until(EC.presence_of_element_located((By.CLASS_NAME, \"_6VtSN\")))"
   ]
  },
  {
   "cell_type": "markdown",
   "metadata": {},
   "source": [
    "# Following So Delhi:"
   ]
  },
  {
   "cell_type": "code",
   "execution_count": 14,
   "metadata": {},
   "outputs": [
    {
     "name": "stdout",
     "output_type": "stream",
     "text": [
      "Started Following\n"
     ]
    }
   ],
   "source": [
    "if driver.find_element_by_class_name('_6VtSN').get_attribute('innerHTML')=='Follow':\n",
    "    driver.find_element_by_xpath('//button[contains(@class, \"_6VtSN\")]').click()\n",
    "    print(\"Started Following\")\n",
    "else:\n",
    "    print('You are already following the page!')\n",
    "waiter=WebDriverWait(driver, 10).until(EC.presence_of_element_located((By.CLASS_NAME, \"_6VtSN\")))\n",
    "time.sleep(3)"
   ]
  },
  {
   "cell_type": "markdown",
   "metadata": {},
   "source": [
    "# Unfollowing So Delhi :"
   ]
  },
  {
   "cell_type": "code",
   "execution_count": 15,
   "metadata": {},
   "outputs": [
    {
     "name": "stdout",
     "output_type": "stream",
     "text": [
      "Unfollwed page\n"
     ]
    }
   ],
   "source": [
    "if driver.find_element_by_class_name('_6VtSN').get_attribute('innerHTML')!='Follow':\n",
    "    driver.find_element_by_class_name('_6VtSN').click()\n",
    "    waiter=WebDriverWait(driver, 10).until(EC.presence_of_element_located((By.XPATH, '//button[contains(@class, \"-Cab_\")]')))\n",
    "    driver.find_element_by_xpath('//button[contains(@class, \"-Cab_\")]').click()\n",
    "    print(\"Unfollwed page\")\n",
    "else:\n",
    "    print('You have already unfollowed the page')\n"
   ]
  }
 ],
 "metadata": {
  "kernelspec": {
   "display_name": "Python 3",
   "language": "python",
   "name": "python3"
  },
  "language_info": {
   "codemirror_mode": {
    "name": "ipython",
    "version": 3
   },
   "file_extension": ".py",
   "mimetype": "text/x-python",
   "name": "python",
   "nbconvert_exporter": "python",
   "pygments_lexer": "ipython3",
   "version": "3.7.4"
  }
 },
 "nbformat": 4,
 "nbformat_minor": 2
}
